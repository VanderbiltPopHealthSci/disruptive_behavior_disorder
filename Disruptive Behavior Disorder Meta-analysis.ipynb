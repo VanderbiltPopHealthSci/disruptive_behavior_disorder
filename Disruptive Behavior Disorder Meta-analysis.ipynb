{
 "metadata": {
  "name": "",
  "signature": "sha256:46fece56dc4506fc4947c7a29a2b81bd48eb44e08fbd46f38bf5c9bffd91e552"
 },
 "nbformat": 3,
 "nbformat_minor": 0,
 "worksheets": [
  {
   "cells": [
    {
     "cell_type": "code",
     "collapsed": false,
     "input": [
      "%matplotlib inline\n",
      "import matplotlib.pyplot as plt\n",
      "import seaborn as sb\n",
      "import numpy as np\n",
      "import pandas as pd\n",
      "import pymc as pm"
     ],
     "language": "python",
     "metadata": {},
     "outputs": [],
     "prompt_number": 2
    },
    {
     "cell_type": "markdown",
     "metadata": {},
     "source": [
      "## Import data from spreadsheet"
     ]
    },
    {
     "cell_type": "code",
     "collapsed": false,
     "input": [
      "study_char = pd.read_excel(\"DBD Data for Meta Analyses.xlsx\", \"Study Characteristics\", \n",
      "                           index_col='RefID', na_values=['-', 'NR'])\n",
      "outcomes = pd.read_excel(\"DBD Data for Meta Analyses.xlsx\", \"Outcomes\", \n",
      "                           na_values=['ND', 'NR'])\n",
      "demographics = pd.read_excel(\"DBD Data for Meta Analyses.xlsx\", \"Pt Demographics\", na_values=['-', 'NR'])"
     ],
     "language": "python",
     "metadata": {},
     "outputs": [],
     "prompt_number": 3
    },
    {
     "cell_type": "markdown",
     "metadata": {},
     "source": [
      "Data cleaning"
     ]
    },
    {
     "cell_type": "code",
     "collapsed": false,
     "input": [
      "for col in ('Last FU Mean', 'Last FU SD',):\n",
      "    outcomes[col] = outcomes[col].astype(float)\n",
      "    \n",
      "outcomes['Measure Instrument'] = outcomes['Measure Instrument'].replace({'Eyberg Child Behaviour Inventory, problem Subscale': \n",
      "                                        'Eyberg Child Behaviour Inventory, Problem Subscale'})"
     ],
     "language": "python",
     "metadata": {},
     "outputs": [],
     "prompt_number": 6
    },
    {
     "cell_type": "code",
     "collapsed": false,
     "input": [
      "study_char.columns"
     ],
     "language": "python",
     "metadata": {},
     "outputs": [
      {
       "metadata": {},
       "output_type": "pyout",
       "prompt_number": 9,
       "text": [
        "Index(['PMID', 'Rel Incl1', 'Rel Incl2', 'Rel Incl3', 'Rel Excl', 'Family', 'NCT', 'Title', 'Year', 'KQ', 'KQ_', 'KQ+', 'AgeCat', 'IntCat', 'Quality', 'Objective', 'Design', 'Groups (N)', 'Centers', 'Intervention Type', 'Comparator Type', 'Geographic setting', 'Population density', 'Care setting', 'Funding', 'Age mean (years) ', 'Age SD (years)', 'Age min (years)', 'Age max (years)', 'Condition', 'Parent Component', 'Screened (N)', 'Randomized (N)', 'Analyzed (N)', 'Proportion Male (%)', 'Direction of Effect'], dtype='object')"
       ]
      }
     ],
     "prompt_number": 9
    },
    {
     "cell_type": "code",
     "collapsed": false,
     "input": [
      "outcomes.columns"
     ],
     "language": "python",
     "metadata": {},
     "outputs": [
      {
       "metadata": {},
       "output_type": "pyout",
       "prompt_number": 13,
       "text": [
        "Index(['PMID', 'Ref ID', 'Title', 'Year', 'Intervention \\nsetting', 'Group', 'Outcome', 'Outcome Description', 'Measure Instrument', 'Measure Description', 'Reporter', 'Units', 'Validation status', 'BL N', 'BL %', 'BL Mean', 'BL SD', 'BL SE', 'BL Min', 'BL Max', 'BL 95% Low', 'BL 95% High', 'BL Q1', 'BL Q3', 'EOT \\nN', 'EOT \\n%', 'EOT Mean', 'EOT \\nSD', 'EOT SE', 'EOT Min', 'EOT Max', 'EOT 95% L', 'EOT 95% H', 'EOT Q1', 'EOT Q3', 'Last FU Time', 'Last FU N', 'Last FU %', 'Last FU Mean', 'Last FU SD', 'Last FU SE', 'Last FU Min', 'Last FU Max', 'Last FU 95% L', 'Last FU 95% H', 'Last FU Q1', 'Last FU Q3', 'CS Group Name', 'CS Group N', 'CS %', 'CS Mean', 'CS SD', 'CS SE', 'CS Min', 'CS Max', 'OR', 'OR 95% CI or p value', 'IRR (incident rate ratio)', 'Beta'], dtype='object')"
       ]
      }
     ],
     "prompt_number": 13
    },
    {
     "cell_type": "code",
     "collapsed": false,
     "input": [
      "pd.crosstab(outcomes['Measure Instrument'], outcomes['Outcome'])"
     ],
     "language": "python",
     "metadata": {},
     "outputs": [
      {
       "html": [
        "<div style=\"max-height:1000px;max-width:1500px;overflow:auto;\">\n",
        "<table border=\"1\" class=\"dataframe\">\n",
        "  <thead>\n",
        "    <tr style=\"text-align: right;\">\n",
        "      <th>Outcome</th>\n",
        "      <th>01 Behavior, disruptive</th>\n",
        "      <th>02 Behavior, aggression</th>\n",
        "      <th>06 Behavior, fighting, destruction, violation</th>\n",
        "      <th>08 Behavior, other</th>\n",
        "    </tr>\n",
        "    <tr>\n",
        "      <th>Measure Instrument</th>\n",
        "      <th></th>\n",
        "      <th></th>\n",
        "      <th></th>\n",
        "      <th></th>\n",
        "    </tr>\n",
        "  </thead>\n",
        "  <tbody>\n",
        "    <tr>\n",
        "      <th>Child Behavior Checklist</th>\n",
        "      <td> 47</td>\n",
        "      <td> 8</td>\n",
        "      <td> 4</td>\n",
        "      <td> 17</td>\n",
        "    </tr>\n",
        "    <tr>\n",
        "      <th>Child Behavior Checklist, Externalizing Factor</th>\n",
        "      <td> 28</td>\n",
        "      <td> 0</td>\n",
        "      <td> 0</td>\n",
        "      <td> 26</td>\n",
        "    </tr>\n",
        "    <tr>\n",
        "      <th>Eyberg Child Behaviour Inventory</th>\n",
        "      <td> 28</td>\n",
        "      <td> 0</td>\n",
        "      <td> 0</td>\n",
        "      <td> 29</td>\n",
        "    </tr>\n",
        "    <tr>\n",
        "      <th>Eyberg Child Behaviour Inventory, Intensity Subscale</th>\n",
        "      <td> 90</td>\n",
        "      <td> 0</td>\n",
        "      <td> 0</td>\n",
        "      <td>  0</td>\n",
        "    </tr>\n",
        "    <tr>\n",
        "      <th>Eyberg Child Behaviour Inventory, Problem Subscale</th>\n",
        "      <td> 58</td>\n",
        "      <td> 0</td>\n",
        "      <td> 0</td>\n",
        "      <td>  0</td>\n",
        "    </tr>\n",
        "    <tr>\n",
        "      <th>Strengths and Difficulties Questionnaire</th>\n",
        "      <td> 10</td>\n",
        "      <td> 0</td>\n",
        "      <td> 0</td>\n",
        "      <td> 18</td>\n",
        "    </tr>\n",
        "  </tbody>\n",
        "</table>\n",
        "</div>"
       ],
       "metadata": {},
       "output_type": "pyout",
       "prompt_number": 7,
       "text": [
        "Outcome                                               01 Behavior, disruptive  \\\n",
        "Measure Instrument                                                              \n",
        "Child Behavior Checklist                                                   47   \n",
        "Child Behavior Checklist, Externalizing Factor                             28   \n",
        "Eyberg Child Behaviour Inventory                                           28   \n",
        "Eyberg Child Behaviour Inventory, Intensity Subscale                       90   \n",
        "Eyberg Child Behaviour Inventory, Problem Subscale                         58   \n",
        "Strengths and Difficulties Questionnaire                                   10   \n",
        "\n",
        "Outcome                                               02 Behavior, aggression  \\\n",
        "Measure Instrument                                                              \n",
        "Child Behavior Checklist                                                    8   \n",
        "Child Behavior Checklist, Externalizing Factor                              0   \n",
        "Eyberg Child Behaviour Inventory                                            0   \n",
        "Eyberg Child Behaviour Inventory, Intensity Subscale                        0   \n",
        "Eyberg Child Behaviour Inventory, Problem Subscale                          0   \n",
        "Strengths and Difficulties Questionnaire                                    0   \n",
        "\n",
        "Outcome                                               06 Behavior, fighting, destruction, violation  \\\n",
        "Measure Instrument                                                                                    \n",
        "Child Behavior Checklist                                                                          4   \n",
        "Child Behavior Checklist, Externalizing Factor                                                    0   \n",
        "Eyberg Child Behaviour Inventory                                                                  0   \n",
        "Eyberg Child Behaviour Inventory, Intensity Subscale                                              0   \n",
        "Eyberg Child Behaviour Inventory, Problem Subscale                                                0   \n",
        "Strengths and Difficulties Questionnaire                                                          0   \n",
        "\n",
        "Outcome                                               08 Behavior, other  \n",
        "Measure Instrument                                                        \n",
        "Child Behavior Checklist                                              17  \n",
        "Child Behavior Checklist, Externalizing Factor                        26  \n",
        "Eyberg Child Behaviour Inventory                                      29  \n",
        "Eyberg Child Behaviour Inventory, Intensity Subscale                   0  \n",
        "Eyberg Child Behaviour Inventory, Problem Subscale                     0  \n",
        "Strengths and Difficulties Questionnaire                              18  "
       ]
      }
     ],
     "prompt_number": 7
    },
    {
     "cell_type": "code",
     "collapsed": false,
     "input": [
      "outcomes['Measure Instrument'].value_counts()"
     ],
     "language": "python",
     "metadata": {},
     "outputs": [
      {
       "metadata": {},
       "output_type": "pyout",
       "prompt_number": 16,
       "text": [
        "Eyberg Child Behaviour Inventory, Intensity Subscale    90\n",
        "Child Behavior Checklist                                76\n",
        "Eyberg Child Behaviour Inventory                        57\n",
        "Child Behavior Checklist, Externalizing Factor          54\n",
        "Eyberg Child Behaviour Inventory, Problem Subscale      52\n",
        "Strengths and Difficulties Questionnaire                28\n",
        "Eyberg Child Behaviour Inventory, problem Subscale       6\n",
        "dtype: int64"
       ]
      }
     ],
     "prompt_number": 16
    },
    {
     "cell_type": "code",
     "collapsed": false,
     "input": [
      "study_char.IntCat.value_counts()"
     ],
     "language": "python",
     "metadata": {},
     "outputs": [
      {
       "metadata": {},
       "output_type": "pyout",
       "prompt_number": 12,
       "text": [
        "PT                 37\n",
        "CT + PT            17\n",
        "CT + PT + FT       13\n",
        "CT + PT + Other     8\n",
        "CT                  4\n",
        "FT                  4\n",
        "PT + FT             1\n",
        "CT, CT + PT         1\n",
        "Other               1\n",
        "dtype: int64"
       ]
      }
     ],
     "prompt_number": 12
    },
    {
     "cell_type": "code",
     "collapsed": false,
     "input": [
      "study_char['Intervention Type'].value_counts()"
     ],
     "language": "python",
     "metadata": {},
     "outputs": [
      {
       "metadata": {},
       "output_type": "pyout",
       "prompt_number": 11,
       "text": [
        "PHARM                                                           20\n",
        "IY-PT                                                            8\n",
        "MST                                                              7\n",
        "PCIT                                                             5\n",
        "IY-PT + IY-CT                                                    4\n",
        "BSFT                                                             3\n",
        "Triple P (enhanced)                                              3\n",
        "PMTO                                                             3\n",
        "OTH: Intensive treatment                                         2\n",
        "CBT                                                              2\n",
        "Triple-P (self-directed)                                         2\n",
        "PCIT-ABB                                                         2\n",
        "PT                                                               2\n",
        "IY-CT                                                            2\n",
        "Fast Track                                                       2\n",
        "IY-PT (nurse led)                                                2\n",
        "PMT (practitioner assisted)                                      1\n",
        "PHARM + PSYCH                                                    1\n",
        "IY-PT + ADVANCE                                                  1\n",
        "HNC                                                              1\n",
        "SNAP Under 12 OutReach Project (enhanced)                        1\n",
        "SNAP Under 12 \\nOutReach Project(ORP)                            1\n",
        "OTH: Family therapy                                              1\n",
        "SCIP (Social cognitive (Dodge's))                                1\n",
        "UCPP                                                             1\n",
        "OTH: Modular (nurse administered)                                1\n",
        "SET-PC                                                           1\n",
        "Coping Power (cultural adaptation)                               1\n",
        "MF-PEP + TAU                                                     1\n",
        "Triple-P (online)                                                1\n",
        "Parenting Group (SPOKES)                                         1\n",
        "OTH: FFT                                                         1\n",
        "OTH: Booster                                                     1\n",
        "PMT (perceptive)                                                 1\n",
        "OTH: Modular treatment (community)                               1\n",
        "IY-PT + IY-CT + IY-TT                                            1\n",
        "Coping Power                                                     1\n",
        "OTH: Project support                                             1\n",
        "IY-PT (brief)                                                    1\n",
        "SNAP Under 12 OutReach Project                                   1\n",
        "OTH: Instrumental, emotional support & child management skills     1\n",
        "MST (PIT)                                                        1\n",
        "OTH: Parental Stress                                             1\n",
        "IY-CT + IY-PT                                                    1\n",
        "Coping power; Coping Power + Booser                              1\n",
        "OTH: Day Program                                                 1\n",
        "CPS                                                              1\n",
        "OTH: Child only treatment                                        1\n",
        "PONI                                                             1\n",
        "HNC (technology enhanced)                                        1\n",
        "OTH: Parents Plus Children's Program                             1\n",
        "PCIT (modified)                                                  1\n",
        "Triple-P (enhanced)                                              1\n",
        "PHARM1 + PHARM2                                                  1\n",
        "Coping power                                                     1\n",
        "OTH: Modular treatment                                           1\n",
        "OTH: Community Parent Education Program                          1\n",
        "Length: 57, dtype: int64"
       ]
      }
     ],
     "prompt_number": 11
    },
    {
     "cell_type": "code",
     "collapsed": true,
     "input": [],
     "language": "python",
     "metadata": {},
     "outputs": []
    }
   ],
   "metadata": {}
  }
 ]
}