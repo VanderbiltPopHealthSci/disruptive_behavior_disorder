{
 "metadata": {
  "name": "",
  "signature": "sha256:e8c3dd0dcb24191165ca958ab6461234dad5494ca9873d0fba1c7d5f83e74d40"
 },
 "nbformat": 3,
 "nbformat_minor": 0,
 "worksheets": [
  {
   "cells": [
    {
     "cell_type": "code",
     "collapsed": false,
     "input": [
      "%matplotlib inline\n",
      "import matplotlib.pyplot as plt\n",
      "import seaborn as sb\n",
      "import numpy as np\n",
      "import pandas as pd\n",
      "import pymc as pm\n",
      "from scipy.misc import comb"
     ],
     "language": "python",
     "metadata": {},
     "outputs": [],
     "prompt_number": 1
    },
    {
     "cell_type": "markdown",
     "metadata": {},
     "source": [
      "## Data import and cleaning"
     ]
    },
    {
     "cell_type": "code",
     "collapsed": false,
     "input": [
      "study_char = pd.read_excel(\"DBD Data for Meta Analyses.xlsx\", \"Study Characteristics\", \n",
      "                           index_col='RefID', na_values=['-', 'NR'])\n",
      "outcomes = pd.read_excel(\"DBD Data for Meta Analyses.xlsx\", \"Outcomes\", \n",
      "                           na_values=['ND', 'NR'])\n",
      "demographics = pd.read_excel(\"DBD Data for Meta Analyses.xlsx\", \"Pt Demographics\", na_values=['-', 'NR'])"
     ],
     "language": "python",
     "metadata": {},
     "outputs": [],
     "prompt_number": 2
    },
    {
     "cell_type": "markdown",
     "metadata": {},
     "source": [
      "Data cleaning"
     ]
    },
    {
     "cell_type": "code",
     "collapsed": false,
     "input": [
      "# Cast outcomes variables to floats\n",
      "for col in ('Last FU Mean', 'Last FU SD',):\n",
      "    outcomes[col] = outcomes[col].astype(float)"
     ],
     "language": "python",
     "metadata": {},
     "outputs": [],
     "prompt_number": 3
    },
    {
     "cell_type": "code",
     "collapsed": false,
     "input": [
      "# Recode age category\n",
      "study_char['age_cat'] = study_char.AgeCat.replace({'PRE-K':1, 'SCHOOL':0, 'TEEN':2})"
     ],
     "language": "python",
     "metadata": {},
     "outputs": [],
     "prompt_number": 4
    },
    {
     "cell_type": "code",
     "collapsed": true,
     "input": [
      "# Fix data label typo\n",
      "outcomes['Measure Instrument'] = outcomes['Measure Instrument'].replace({'Eyberg Child Behaviour Inventory, problem Subscale': \n",
      "                                        'Eyberg Child Behaviour Inventory, Problem Subscale'})\n",
      "outcomes.Units = outcomes.Units.replace({'scale': 'Scale'})"
     ],
     "language": "python",
     "metadata": {},
     "outputs": [],
     "prompt_number": 5
    },
    {
     "cell_type": "code",
     "collapsed": false,
     "input": [
      "# Parse followup times and convert to months\n",
      "split_fut = outcomes.loc[outcomes['Last FU Time'].notnull(), 'Last FU Time'].apply(lambda x: str(x).split(' ')[:2])\n",
      "fut_months = [float(time)/52.*(unit=='weeks') or float(time) for time, unit in split_fut]\n",
      "outcomes.loc[outcomes['Last FU Time'].notnull(), 'Last FU Time'] = fut_months"
     ],
     "language": "python",
     "metadata": {},
     "outputs": [],
     "prompt_number": 6
    },
    {
     "cell_type": "markdown",
     "metadata": {},
     "source": [
      "We are assumung all CBC Externalizing values over 50 are T-scores, and those under 50 are raw scores. This recodes those observations."
     ]
    },
    {
     "cell_type": "code",
     "collapsed": false,
     "input": [
      "cbce_ind = outcomes['Measure Instrument'].apply(lambda x: x.startswith('Child Behavior Checklist, Externalizing'))\n",
      "under_50 = outcomes['BL Mean']<50\n",
      "outcomes.loc[cbce_ind & (under_50^True), 'Measure Instrument'] = 'Child Behavior Checklist, Externalizing (T Score)'\n",
      "outcomes.loc[cbce_ind & under_50, 'Measure Instrument'] = 'Child Behavior Checklist, Externalizing'"
     ],
     "language": "python",
     "metadata": {},
     "outputs": [],
     "prompt_number": 7
    },
    {
     "cell_type": "markdown",
     "metadata": {},
     "source": [
      "Recode measure instrument variables"
     ]
    },
    {
     "cell_type": "code",
     "collapsed": false,
     "input": [
      "instrument = []\n",
      "subtype = []\n",
      "units = []\n",
      "\n",
      "for i,row in outcomes.iterrows():\n",
      "    separator = row['Measure Instrument'].find(',')\n",
      "    if separator == -1:\n",
      "        separator = row['Measure Instrument'].find('-')\n",
      "    instrument.append(row['Measure Instrument'][:separator])\n",
      "    s = row['Measure Instrument'][separator+2:]\n",
      "    paren = s.find('(')\n",
      "    if paren > -1:\n",
      "        subtype.append(s[:paren-1])\n",
      "        units.append(s[paren+1:-1])\n",
      "    else:\n",
      "        subtype.append(s)\n",
      "        if s.endswith('scale'):\n",
      "            units.append('Scale')\n",
      "        else:\n",
      "            units.append('Score')\n",
      "            \n",
      "new_cols = pd.DataFrame({'instrument': instrument, 'subtype': subtype, \n",
      "                         'units': units}, index=outcomes.index)"
     ],
     "language": "python",
     "metadata": {},
     "outputs": [],
     "prompt_number": 8
    },
    {
     "cell_type": "code",
     "collapsed": false,
     "input": [
      "outcomes['Measure Instrument'].value_counts()"
     ],
     "language": "python",
     "metadata": {},
     "outputs": [
      {
       "metadata": {},
       "output_type": "pyout",
       "prompt_number": 9,
       "text": [
        "Eyberg Child Behaviour Inventory, Intensity Subscale            63\n",
        "Eyberg Child Behaviour Inventory, Problem Subscale              45\n",
        "Child Behavior Checklist, Externalizing (T Score)               33\n",
        "Child Behavior Checklist, Externalizing                         11\n",
        "Strengths and Difficulties Questionnaire- Conduct Problems Scale    10\n",
        "Eyberg Child Behaviour Inventory, Intensity Subscale (T Score)    10\n",
        "Strengths and Difficulties Questionnaire- Total Difficulties Score     4\n",
        "Strengths and Difficulties Questionnaire- Emotional Symptoms Scale     4\n",
        "Child Behavior Checklist, Aggression                             4\n",
        "Eyberg Child Behaviour Inventory, Problem Subscale (T Score)     4\n",
        "Strengths and Difficulties Questionnaire- Total Score            4\n",
        "Child Behavior Checklist, Conduct Problems                       2\n",
        "Strengths and Difficulties Questionnaire- Impact Score           2\n",
        "Child Behavior Checklist, Rulebreaking                           2\n",
        "Child Behavior Checklist, Conduct Problems (T Score)             2\n",
        "Strengths and Difficulties Questionnaire- Hyperactivity Scale     2\n",
        "dtype: int64"
       ]
      }
     ],
     "prompt_number": 9
    },
    {
     "cell_type": "code",
     "collapsed": false,
     "input": [
      "new_cols.head()"
     ],
     "language": "python",
     "metadata": {},
     "outputs": [
      {
       "html": [
        "<div style=\"max-height:1000px;max-width:1500px;overflow:auto;\">\n",
        "<table border=\"1\" class=\"dataframe\">\n",
        "  <thead>\n",
        "    <tr style=\"text-align: right;\">\n",
        "      <th></th>\n",
        "      <th>instrument</th>\n",
        "      <th>subtype</th>\n",
        "      <th>units</th>\n",
        "    </tr>\n",
        "  </thead>\n",
        "  <tbody>\n",
        "    <tr>\n",
        "      <th>0</th>\n",
        "      <td> Eyberg Child Behaviour Inventory</td>\n",
        "      <td> Intensity Subscale</td>\n",
        "      <td> T Score</td>\n",
        "    </tr>\n",
        "    <tr>\n",
        "      <th>1</th>\n",
        "      <td> Eyberg Child Behaviour Inventory</td>\n",
        "      <td>   Problem Subscale</td>\n",
        "      <td> T Score</td>\n",
        "    </tr>\n",
        "    <tr>\n",
        "      <th>2</th>\n",
        "      <td> Eyberg Child Behaviour Inventory</td>\n",
        "      <td> Intensity Subscale</td>\n",
        "      <td> T Score</td>\n",
        "    </tr>\n",
        "    <tr>\n",
        "      <th>3</th>\n",
        "      <td> Eyberg Child Behaviour Inventory</td>\n",
        "      <td>   Problem Subscale</td>\n",
        "      <td> T Score</td>\n",
        "    </tr>\n",
        "    <tr>\n",
        "      <th>4</th>\n",
        "      <td>         Child Behavior Checklist</td>\n",
        "      <td>      Externalizing</td>\n",
        "      <td>   Score</td>\n",
        "    </tr>\n",
        "  </tbody>\n",
        "</table>\n",
        "</div>"
       ],
       "metadata": {},
       "output_type": "pyout",
       "prompt_number": 10,
       "text": [
        "                         instrument             subtype    units\n",
        "0  Eyberg Child Behaviour Inventory  Intensity Subscale  T Score\n",
        "1  Eyberg Child Behaviour Inventory    Problem Subscale  T Score\n",
        "2  Eyberg Child Behaviour Inventory  Intensity Subscale  T Score\n",
        "3  Eyberg Child Behaviour Inventory    Problem Subscale  T Score\n",
        "4          Child Behavior Checklist       Externalizing    Score"
       ]
      }
     ],
     "prompt_number": 10
    },
    {
     "cell_type": "code",
     "collapsed": false,
     "input": [
      "# Append new columns\n",
      "outcomes = outcomes.join(new_cols)"
     ],
     "language": "python",
     "metadata": {},
     "outputs": [],
     "prompt_number": 11
    },
    {
     "cell_type": "code",
     "collapsed": false,
     "input": [
      "outcomes.intvn.value_counts()"
     ],
     "language": "python",
     "metadata": {},
     "outputs": [
      {
       "metadata": {},
       "output_type": "pyout",
       "prompt_number": 12,
       "text": [
        "wlc              41\n",
        "tau              37\n",
        "iypt             26\n",
        "pcit             16\n",
        "pppsd             7\n",
        "iyptndiyct        6\n",
        "mst               5\n",
        "pppo              4\n",
        "ppcp              4\n",
        "it                4\n",
        "pcitc             3\n",
        "spokes            3\n",
        "snap              3\n",
        "pmto              3\n",
        "pppe              3\n",
        "pmtndp            3\n",
        "pmtpa             2\n",
        "iyct              2\n",
        "pmtnds            2\n",
        "modularndn        2\n",
        "setpc             2\n",
        "pcitabb           2\n",
        "hncte             2\n",
        "hncstd            2\n",
        "pmtsd             2\n",
        "mcfi              1\n",
        "modularndcomm     1\n",
        "iyptadv           1\n",
        "pppstd            1\n",
        "pstnds            1\n",
        "scip              1\n",
        "kitkashrut        1\n",
        "cbt               1\n",
        "coaching          1\n",
        "cpp               1\n",
        "sst               1\n",
        "hnc               1\n",
        "projndsupport     1\n",
        "itpt              1\n",
        "hitkashrut        1\n",
        "modularndclin     1\n",
        "dtype: int64"
       ]
      }
     ],
     "prompt_number": 12
    },
    {
     "cell_type": "markdown",
     "metadata": {},
     "source": [
      "## Data summaries\n",
      "\n",
      "Cross-tabulation of the outcome counts by measure instrument"
     ]
    },
    {
     "cell_type": "code",
     "collapsed": false,
     "input": [
      "pd.crosstab(outcomes['instrument'], outcomes['Outcome'])"
     ],
     "language": "python",
     "metadata": {},
     "outputs": [
      {
       "html": [
        "<div style=\"max-height:1000px;max-width:1500px;overflow:auto;\">\n",
        "<table border=\"1\" class=\"dataframe\">\n",
        "  <thead>\n",
        "    <tr style=\"text-align: right;\">\n",
        "      <th>Outcome</th>\n",
        "      <th>01 Behavior, disruptive</th>\n",
        "      <th>02 Behavior, aggression</th>\n",
        "      <th>06 Behavior, fighting, destruction, violation</th>\n",
        "      <th>08 Behavior, other</th>\n",
        "    </tr>\n",
        "    <tr>\n",
        "      <th>instrument</th>\n",
        "      <th></th>\n",
        "      <th></th>\n",
        "      <th></th>\n",
        "      <th></th>\n",
        "    </tr>\n",
        "  </thead>\n",
        "  <tbody>\n",
        "    <tr>\n",
        "      <th>Child Behavior Checklist</th>\n",
        "      <td>  48</td>\n",
        "      <td> 4</td>\n",
        "      <td> 2</td>\n",
        "      <td>  0</td>\n",
        "    </tr>\n",
        "    <tr>\n",
        "      <th>Eyberg Child Behaviour Inventory</th>\n",
        "      <td> 122</td>\n",
        "      <td> 0</td>\n",
        "      <td> 0</td>\n",
        "      <td>  0</td>\n",
        "    </tr>\n",
        "    <tr>\n",
        "      <th>Strengths and Difficulties Questionnaire</th>\n",
        "      <td>  10</td>\n",
        "      <td> 0</td>\n",
        "      <td> 0</td>\n",
        "      <td> 16</td>\n",
        "    </tr>\n",
        "  </tbody>\n",
        "</table>\n",
        "</div>"
       ],
       "metadata": {},
       "output_type": "pyout",
       "prompt_number": 13,
       "text": [
        "Outcome                                   01 Behavior, disruptive  \\\n",
        "instrument                                                          \n",
        "Child Behavior Checklist                                       48   \n",
        "Eyberg Child Behaviour Inventory                              122   \n",
        "Strengths and Difficulties Questionnaire                       10   \n",
        "\n",
        "Outcome                                   02 Behavior, aggression  \\\n",
        "instrument                                                          \n",
        "Child Behavior Checklist                                        4   \n",
        "Eyberg Child Behaviour Inventory                                0   \n",
        "Strengths and Difficulties Questionnaire                        0   \n",
        "\n",
        "Outcome                                   06 Behavior, fighting, destruction, violation  \\\n",
        "instrument                                                                                \n",
        "Child Behavior Checklist                                                              2   \n",
        "Eyberg Child Behaviour Inventory                                                      0   \n",
        "Strengths and Difficulties Questionnaire                                              0   \n",
        "\n",
        "Outcome                                   08 Behavior, other  \n",
        "instrument                                                    \n",
        "Child Behavior Checklist                                   0  \n",
        "Eyberg Child Behaviour Inventory                           0  \n",
        "Strengths and Difficulties Questionnaire                  16  "
       ]
      }
     ],
     "prompt_number": 13
    },
    {
     "cell_type": "markdown",
     "metadata": {},
     "source": [
      "Distribution of age categories"
     ]
    },
    {
     "cell_type": "code",
     "collapsed": false,
     "input": [
      "study_char.AgeCat.value_counts()"
     ],
     "language": "python",
     "metadata": {},
     "outputs": [
      {
       "metadata": {},
       "output_type": "pyout",
       "prompt_number": 14,
       "text": [
        "SCHOOL    46\n",
        "PRE-K     26\n",
        "TEEN      14\n",
        "dtype: int64"
       ]
      }
     ],
     "prompt_number": 14
    },
    {
     "cell_type": "markdown",
     "metadata": {},
     "source": [
      "Frequencies of various intervention types"
     ]
    },
    {
     "cell_type": "code",
     "collapsed": false,
     "input": [
      "study_char['Intervention Type'].value_counts()"
     ],
     "language": "python",
     "metadata": {},
     "outputs": [
      {
       "metadata": {},
       "output_type": "pyout",
       "prompt_number": 15,
       "text": [
        "PHARM                                                           20\n",
        "IY-PT                                                            8\n",
        "MST                                                              7\n",
        "PCIT                                                             5\n",
        "IY-PT + IY-CT                                                    4\n",
        "PMTO                                                             3\n",
        "Triple P (enhanced)                                              3\n",
        "BSFT                                                             3\n",
        "OTH: Intensive treatment                                         2\n",
        "Triple-P (self-directed)                                         2\n",
        "IY-CT                                                            2\n",
        "IY-PT (nurse led)                                                2\n",
        "PCIT-ABB                                                         2\n",
        "CBT                                                              2\n",
        "Fast Track                                                       2\n",
        "PT                                                               2\n",
        "IY-PT + ADVANCE                                                  1\n",
        "IY-PT (brief)                                                    1\n",
        "SNAP Under 12 OutReach Project (enhanced)                        1\n",
        "MST (PIT)                                                        1\n",
        "OTH: Day Program                                                 1\n",
        "UCPP                                                             1\n",
        "Coping Power (cultural adaptation)                               1\n",
        "Coping power; Coping Power + Booser                              1\n",
        "Coping Power                                                     1\n",
        "PONI                                                             1\n",
        "MF-PEP + TAU                                                     1\n",
        "OTH: Modular (nurse administered)                                1\n",
        "OTH: Parental Stress                                             1\n",
        "OTH: Community Parent Education Program                          1\n",
        "SET-PC                                                           1\n",
        "PCIT (modified)                                                  1\n",
        "IY-CT + IY-PT                                                    1\n",
        "PHARM1 + PHARM2                                                  1\n",
        "PMT (perceptive)                                                 1\n",
        "SNAP Under 12 \\nOutReach Project(ORP)                            1\n",
        "Triple-P (enhanced)                                              1\n",
        "PHARM + PSYCH                                                    1\n",
        "OTH: Family therapy                                              1\n",
        "HNC (technology enhanced)                                        1\n",
        "SNAP Under 12 OutReach Project                                   1\n",
        "OTH: Modular treatment                                           1\n",
        "HNC                                                              1\n",
        "OTH: Instrumental, emotional support & child management skills     1\n",
        "OTH: Child only treatment                                        1\n",
        "CPS                                                              1\n",
        "OTH: Project support                                             1\n",
        "Coping power                                                     1\n",
        "OTH: FFT                                                         1\n",
        "SCIP (Social cognitive (Dodge's))                                1\n",
        "IY-PT + IY-CT + IY-TT                                            1\n",
        "Parenting Group (SPOKES)                                         1\n",
        "PMT (practitioner assisted)                                      1\n",
        "OTH: Booster                                                     1\n",
        "OTH: Parents Plus Children's Program                             1\n",
        "Triple-P (online)                                                1\n",
        "OTH: Modular treatment (community)                               1\n",
        "Length: 57, dtype: int64"
       ]
      }
     ],
     "prompt_number": 15
    },
    {
     "cell_type": "markdown",
     "metadata": {},
     "source": [
      "## Extract variables of interest and merge tables"
     ]
    },
    {
     "cell_type": "code",
     "collapsed": true,
     "input": [
      "KQ1 = study_char[study_char.KQ=='KQ1']"
     ],
     "language": "python",
     "metadata": {},
     "outputs": [],
     "prompt_number": 16
    },
    {
     "cell_type": "code",
     "collapsed": true,
     "input": [
      "study_varnames = ['Year', 'age_cat', 'Geographic setting', 'Age mean (years) ', 'Age SD (years)', \n",
      "              'Age min (years)', 'Age max (years)', 'Proportion Male (%)']\n",
      "\n",
      "study_vars = KQ1[study_varnames].rename(columns={'Geographic setting': 'country', \n",
      "                           'Age mean (years) ': 'age_mean', \n",
      "                           'Age SD (years)': 'age_sd', \n",
      "                           'Age min (years)': 'age_min', \n",
      "                           'Age max (years)': 'age_max', \n",
      "                           'Proportion Male (%)': 'p_male'})"
     ],
     "language": "python",
     "metadata": {},
     "outputs": [],
     "prompt_number": 17
    },
    {
     "cell_type": "code",
     "collapsed": false,
     "input": [
      "study_vars.head()"
     ],
     "language": "python",
     "metadata": {},
     "outputs": [
      {
       "html": [
        "<div style=\"max-height:1000px;max-width:1500px;overflow:auto;\">\n",
        "<table border=\"1\" class=\"dataframe\">\n",
        "  <thead>\n",
        "    <tr style=\"text-align: right;\">\n",
        "      <th></th>\n",
        "      <th>Year</th>\n",
        "      <th>age_cat</th>\n",
        "      <th>country</th>\n",
        "      <th>age_mean</th>\n",
        "      <th>age_sd</th>\n",
        "      <th>age_min</th>\n",
        "      <th>age_max</th>\n",
        "      <th>p_male</th>\n",
        "    </tr>\n",
        "    <tr>\n",
        "      <th>RefID</th>\n",
        "      <th></th>\n",
        "      <th></th>\n",
        "      <th></th>\n",
        "      <th></th>\n",
        "      <th></th>\n",
        "      <th></th>\n",
        "      <th></th>\n",
        "      <th></th>\n",
        "    </tr>\n",
        "  </thead>\n",
        "  <tbody>\n",
        "    <tr>\n",
        "      <th>23 </th>\n",
        "      <td> 2013</td>\n",
        "      <td> 1</td>\n",
        "      <td>         USA</td>\n",
        "      <td>  2.80</td>\n",
        "      <td> 0.61</td>\n",
        "      <td>  2</td>\n",
        "      <td>  4</td>\n",
        "      <td> 62</td>\n",
        "    </tr>\n",
        "    <tr>\n",
        "      <th>100</th>\n",
        "      <td> 2013</td>\n",
        "      <td> 2</td>\n",
        "      <td>         USA</td>\n",
        "      <td> 14.60</td>\n",
        "      <td> 1.30</td>\n",
        "      <td> 11</td>\n",
        "      <td> 18</td>\n",
        "      <td> 83</td>\n",
        "    </tr>\n",
        "    <tr>\n",
        "      <th>103</th>\n",
        "      <td> 2013</td>\n",
        "      <td> 1</td>\n",
        "      <td>         USA</td>\n",
        "      <td>  5.67</td>\n",
        "      <td> 1.72</td>\n",
        "      <td>  3</td>\n",
        "      <td>  8</td>\n",
        "      <td> 53</td>\n",
        "    </tr>\n",
        "    <tr>\n",
        "      <th>141</th>\n",
        "      <td> 2013</td>\n",
        "      <td> 0</td>\n",
        "      <td>         USA</td>\n",
        "      <td>  9.90</td>\n",
        "      <td> 1.30</td>\n",
        "      <td>  8</td>\n",
        "      <td> 11</td>\n",
        "      <td> 73</td>\n",
        "    </tr>\n",
        "    <tr>\n",
        "      <th>156</th>\n",
        "      <td> 2013</td>\n",
        "      <td> 2</td>\n",
        "      <td> Netherlands</td>\n",
        "      <td> 16.00</td>\n",
        "      <td> 1.31</td>\n",
        "      <td> 12</td>\n",
        "      <td> 18</td>\n",
        "      <td> 73</td>\n",
        "    </tr>\n",
        "  </tbody>\n",
        "</table>\n",
        "</div>"
       ],
       "metadata": {},
       "output_type": "pyout",
       "prompt_number": 18,
       "text": [
        "       Year  age_cat      country  age_mean  age_sd  age_min  age_max  p_male\n",
        "RefID                                                                        \n",
        "23     2013        1          USA      2.80    0.61        2        4      62\n",
        "100    2013        2          USA     14.60    1.30       11       18      83\n",
        "103    2013        1          USA      5.67    1.72        3        8      53\n",
        "141    2013        0          USA      9.90    1.30        8       11      73\n",
        "156    2013        2  Netherlands     16.00    1.31       12       18      73"
       ]
      }
     ],
     "prompt_number": 18
    },
    {
     "cell_type": "code",
     "collapsed": false,
     "input": [
      "study_vars.p_male.hist()"
     ],
     "language": "python",
     "metadata": {},
     "outputs": [
      {
       "metadata": {},
       "output_type": "pyout",
       "prompt_number": 19,
       "text": [
        "<matplotlib.axes._subplots.AxesSubplot at 0x110976160>"
       ]
      },
      {
       "metadata": {},
       "output_type": "display_data",
       "png": "[encoded data removed]",
       "text": [
        "<matplotlib.figure.Figure at 0x110a17cc0>"
       ]
      }
     ],
     "prompt_number": 19
    },
    {
     "cell_type": "markdown",
     "metadata": {},
     "source": [
      "Proportion missing"
     ]
    },
    {
     "cell_type": "code",
     "collapsed": false,
     "input": [
      "study_vars.isnull().mean(0).round(2)"
     ],
     "language": "python",
     "metadata": {},
     "outputs": [
      {
       "metadata": {},
       "output_type": "pyout",
       "prompt_number": 20,
       "text": [
        "Year        0.00\n",
        "age_cat     0.00\n",
        "country     0.00\n",
        "age_mean    0.13\n",
        "age_sd      0.20\n",
        "age_min     0.07\n",
        "age_max     0.08\n",
        "p_male      0.01\n",
        "dtype: float64"
       ]
      }
     ],
     "prompt_number": 20
    },
    {
     "cell_type": "markdown",
     "metadata": {},
     "source": [
      "Will assume the mean age for those which are missing is simply the midpoint between minimum and maximum values"
     ]
    },
    {
     "cell_type": "code",
     "collapsed": false,
     "input": [
      "est_means = study_vars.apply(lambda x: x.age_min + (x.age_max - x.age_min) / 2, axis=1)[study_vars.age_mean.isnull()]\n",
      "study_vars.loc[study_vars.age_mean.isnull(), 'age_mean'] = est_means\n",
      "\n",
      "study_vars.age_mean.isnull().sum()"
     ],
     "language": "python",
     "metadata": {},
     "outputs": [
      {
       "metadata": {},
       "output_type": "pyout",
       "prompt_number": 21,
       "text": [
        "3"
       ]
      }
     ],
     "prompt_number": 21
    },
    {
     "cell_type": "code",
     "collapsed": true,
     "input": [
      "outcomes_varnames = ['Ref ID', 'Measure Instrument', 'instrument', 'subtype', 'units', \n",
      "                     'intvn', 'cc', 'pc', 'fc', 'oc',\n",
      "                     'BL N', 'BL Mean', 'BL SD', \n",
      "                     'EOT \\nN', 'EOT Mean', 'EOT \\nSD', 'Last FU Time', 'Last FU N', \n",
      "                     'Last FU Mean', 'Last FU SD', 'CS Group N', 'CS Mean', 'CS SD']"
     ],
     "language": "python",
     "metadata": {},
     "outputs": [],
     "prompt_number": 22
    },
    {
     "cell_type": "code",
     "collapsed": false,
     "input": [
      "# Screen Behavior, disruptive\n",
      "disruptive_behavior = outcomes#[outcomes.Outcome=='01 Behavior, disruptive']\n",
      "\n",
      "outcomes_vars = disruptive_behavior[outcomes_varnames].rename(columns={'Ref ID': 'RefID', \n",
      "                                                                       'Measure Instrument': 'measure_instrument',\n",
      "                                                                       'cc': 'child_component',\n",
      "                                                                       'pc': 'parent_component',\n",
      "                                                                       'fc': 'family_component',\n",
      "                                                                       'oc': 'other_component',\n",
      "                                                                       'BL N': 'baseline_n',\n",
      "                                                                       'BL Mean': 'baseline_mean',\n",
      "                                                                       'BL SD': 'baseline_sd', \n",
      "                                                                       'EOT \\nN': 'end_treat_n', \n",
      "                                                                       'EOT Mean': 'end_treat_mean', \n",
      "                                                                       'EOT \\nSD': 'end_treat_sd', \n",
      "                                                                       'Last FU Time': 'followup_time', \n",
      "                                                                       'Last FU N': 'followup_n',\n",
      "                                                                       'Last FU Mean': 'followup_mean', \n",
      "                                                                       'Last FU SD': 'followup_sd', \n",
      "                                                                       'CS Group N': 'change_n',\n",
      "                                                                       'CS Mean': 'change_mean',\n",
      "                                                                       'CS SD': 'change_sd'})"
     ],
     "language": "python",
     "metadata": {},
     "outputs": [],
     "prompt_number": 23
    },
    {
     "cell_type": "markdown",
     "metadata": {},
     "source": [
      "Obtain subset with non-missing EOT data"
     ]
    },
    {
     "cell_type": "code",
     "collapsed": false,
     "input": [
      "eot_subset = outcomes_vars[outcomes_vars.end_treat_mean.notnull() & outcomes_vars.end_treat_sd.notnull()]"
     ],
     "language": "python",
     "metadata": {},
     "outputs": [],
     "prompt_number": 24
    },
    {
     "cell_type": "markdown",
     "metadata": {},
     "source": [
      "Calculate EOT difference"
     ]
    },
    {
     "cell_type": "code",
     "collapsed": false,
     "input": [
      "eot_subset['eot_diff_mean'] = eot_subset.baseline_mean - eot_subset.end_treat_mean"
     ],
     "language": "python",
     "metadata": {},
     "outputs": [
      {
       "output_type": "stream",
       "stream": "stderr",
       "text": [
        "/usr/local/lib/python3.4/site-packages/IPython/kernel/__main__.py:1: SettingWithCopyWarning: \n",
        "A value is trying to be set on a copy of a slice from a DataFrame.\n",
        "Try using .loc[row_indexer,col_indexer] = value instead\n",
        "\n",
        "See the the caveats in the documentation: http://pandas.pydata.org/pandas-docs/stable/indexing.html#indexing-view-versus-copy\n",
        "  if __name__ == '__main__':\n"
       ]
      }
     ],
     "prompt_number": 25
    },
    {
     "cell_type": "code",
     "collapsed": true,
     "input": [
      "eot_subset['eot_diff_sd'] = eot_subset.baseline_sd + eot_subset.end_treat_sd"
     ],
     "language": "python",
     "metadata": {},
     "outputs": [],
     "prompt_number": 26
    },
    {
     "cell_type": "code",
     "collapsed": false,
     "input": [
      "eot_subset['eot_diff_n'] = eot_subset[['baseline_n', 'end_treat_n']].min(1)"
     ],
     "language": "python",
     "metadata": {},
     "outputs": [],
     "prompt_number": 27
    },
    {
     "cell_type": "markdown",
     "metadata": {},
     "source": [
      "Distribution of baseline means among outcome metrics"
     ]
    },
    {
     "cell_type": "code",
     "collapsed": false,
     "input": [
      "for instrument in ('Eyberg Child Behaviour Inventory', \n",
      "                   'Child Behavior Checklist', \n",
      "                   'Strengths and Difficulties Questionnaire'):\n",
      "    eot_subset[eot_subset.instrument==instrument]['baseline_mean'].hist(by=eot_subset['subtype'], \n",
      "                                                                              sharex=True)\n",
      "    plt.suptitle(instrument);"
     ],
     "language": "python",
     "metadata": {},
     "outputs": [
      {
       "metadata": {},
       "output_type": "display_data",
       "png": "[encoded data removed]",
       "text": [
        "<matplotlib.figure.Figure at 0x1108a39b0>"
       ]
      },
      {
       "metadata": {},
       "output_type": "display_data",
       "png": "[encoded data removed]",
       "text": [
        "<matplotlib.figure.Figure at 0x11084a780>"
       ]
      },
      {
       "metadata": {},
       "output_type": "display_data",
       "png": "[encoded data removed]",
       "text": [
        "<matplotlib.figure.Figure at 0x110d4ca90>"
       ]
      }
     ],
     "prompt_number": 28
    },
    {
     "cell_type": "code",
     "collapsed": false,
     "input": [
      "eot_subset.instrument.value_counts()"
     ],
     "language": "python",
     "metadata": {},
     "outputs": [
      {
       "metadata": {},
       "output_type": "pyout",
       "prompt_number": 29,
       "text": [
        "Eyberg Child Behaviour Inventory            86\n",
        "Child Behavior Checklist                    31\n",
        "Strengths and Difficulties Questionnaire    20\n",
        "dtype: int64"
       ]
      }
     ],
     "prompt_number": 29
    },
    {
     "cell_type": "code",
     "collapsed": false,
     "input": [
      "eot_subset[eot_subset.RefID==441]"
     ],
     "language": "python",
     "metadata": {},
     "outputs": [
      {
       "html": [
        "<div style=\"max-height:1000px;max-width:1500px;overflow:auto;\">\n",
        "<table border=\"1\" class=\"dataframe\">\n",
        "  <thead>\n",
        "    <tr style=\"text-align: right;\">\n",
        "      <th></th>\n",
        "      <th>RefID</th>\n",
        "      <th>measure_instrument</th>\n",
        "      <th>instrument</th>\n",
        "      <th>subtype</th>\n",
        "      <th>units</th>\n",
        "      <th>intvn</th>\n",
        "      <th>child_component</th>\n",
        "      <th>parent_component</th>\n",
        "      <th>family_component</th>\n",
        "      <th>other_component</th>\n",
        "      <th>...</th>\n",
        "      <th>followup_time</th>\n",
        "      <th>followup_n</th>\n",
        "      <th>followup_mean</th>\n",
        "      <th>followup_sd</th>\n",
        "      <th>change_n</th>\n",
        "      <th>change_mean</th>\n",
        "      <th>change_sd</th>\n",
        "      <th>eot_diff_mean</th>\n",
        "      <th>eot_diff_sd</th>\n",
        "      <th>eot_diff_n</th>\n",
        "    </tr>\n",
        "  </thead>\n",
        "  <tbody>\n",
        "    <tr>\n",
        "      <th>14</th>\n",
        "      <td> 441</td>\n",
        "      <td> Eyberg Child Behaviour Inventory, Intensity Su...</td>\n",
        "      <td> Eyberg Child Behaviour Inventory</td>\n",
        "      <td> Intensity Subscale</td>\n",
        "      <td> Scale</td>\n",
        "      <td> iypt</td>\n",
        "      <td> 0</td>\n",
        "      <td> 1</td>\n",
        "      <td> 0</td>\n",
        "      <td> 0</td>\n",
        "      <td>...</td>\n",
        "      <td> 12</td>\n",
        "      <td>NaN</td>\n",
        "      <td>NaN</td>\n",
        "      <td>NaN</td>\n",
        "      <td> NaN</td>\n",
        "      <td>NaN</td>\n",
        "      <td>NaN</td>\n",
        "      <td> 31.40</td>\n",
        "      <td> 46.80</td>\n",
        "      <td> 32</td>\n",
        "    </tr>\n",
        "    <tr>\n",
        "      <th>15</th>\n",
        "      <td> 441</td>\n",
        "      <td> Eyberg Child Behaviour Inventory, Problem Subs...</td>\n",
        "      <td> Eyberg Child Behaviour Inventory</td>\n",
        "      <td>   Problem Subscale</td>\n",
        "      <td> Scale</td>\n",
        "      <td> iypt</td>\n",
        "      <td> 0</td>\n",
        "      <td> 1</td>\n",
        "      <td> 0</td>\n",
        "      <td> 0</td>\n",
        "      <td>...</td>\n",
        "      <td> 12</td>\n",
        "      <td>NaN</td>\n",
        "      <td>NaN</td>\n",
        "      <td>NaN</td>\n",
        "      <td> NaN</td>\n",
        "      <td>NaN</td>\n",
        "      <td>NaN</td>\n",
        "      <td>  9.70</td>\n",
        "      <td> 12.02</td>\n",
        "      <td> 24</td>\n",
        "    </tr>\n",
        "    <tr>\n",
        "      <th>16</th>\n",
        "      <td> 441</td>\n",
        "      <td> Eyberg Child Behaviour Inventory, Intensity Su...</td>\n",
        "      <td> Eyberg Child Behaviour Inventory</td>\n",
        "      <td> Intensity Subscale</td>\n",
        "      <td> Scale</td>\n",
        "      <td>  wlc</td>\n",
        "      <td> 0</td>\n",
        "      <td> 0</td>\n",
        "      <td> 0</td>\n",
        "      <td> 0</td>\n",
        "      <td>...</td>\n",
        "      <td> 12</td>\n",
        "      <td>NaN</td>\n",
        "      <td>NaN</td>\n",
        "      <td>NaN</td>\n",
        "      <td> NaN</td>\n",
        "      <td>NaN</td>\n",
        "      <td>NaN</td>\n",
        "      <td>  5.80</td>\n",
        "      <td> 49.60</td>\n",
        "      <td> 20</td>\n",
        "    </tr>\n",
        "    <tr>\n",
        "      <th>17</th>\n",
        "      <td> 441</td>\n",
        "      <td> Eyberg Child Behaviour Inventory, Problem Subs...</td>\n",
        "      <td> Eyberg Child Behaviour Inventory</td>\n",
        "      <td>   Problem Subscale</td>\n",
        "      <td> Scale</td>\n",
        "      <td>  wlc</td>\n",
        "      <td> 0</td>\n",
        "      <td> 0</td>\n",
        "      <td> 0</td>\n",
        "      <td> 0</td>\n",
        "      <td>...</td>\n",
        "      <td> 12</td>\n",
        "      <td>NaN</td>\n",
        "      <td>NaN</td>\n",
        "      <td>NaN</td>\n",
        "      <td> NaN</td>\n",
        "      <td>NaN</td>\n",
        "      <td>NaN</td>\n",
        "      <td>  2.88</td>\n",
        "      <td> 14.59</td>\n",
        "      <td> 17</td>\n",
        "    </tr>\n",
        "  </tbody>\n",
        "</table>\n",
        "<p>4 rows \u00d7 26 columns</p>\n",
        "</div>"
       ],
       "metadata": {},
       "output_type": "pyout",
       "prompt_number": 30,
       "text": [
        "    RefID                                 measure_instrument  \\\n",
        "14    441  Eyberg Child Behaviour Inventory, Intensity Su...   \n",
        "15    441  Eyberg Child Behaviour Inventory, Problem Subs...   \n",
        "16    441  Eyberg Child Behaviour Inventory, Intensity Su...   \n",
        "17    441  Eyberg Child Behaviour Inventory, Problem Subs...   \n",
        "\n",
        "                          instrument             subtype  units intvn  \\\n",
        "14  Eyberg Child Behaviour Inventory  Intensity Subscale  Scale  iypt   \n",
        "15  Eyberg Child Behaviour Inventory    Problem Subscale  Scale  iypt   \n",
        "16  Eyberg Child Behaviour Inventory  Intensity Subscale  Scale   wlc   \n",
        "17  Eyberg Child Behaviour Inventory    Problem Subscale  Scale   wlc   \n",
        "\n",
        "    child_component  parent_component  family_component  other_component  \\\n",
        "14                0                 1                 0                0   \n",
        "15                0                 1                 0                0   \n",
        "16                0                 0                 0                0   \n",
        "17                0                 0                 0                0   \n",
        "\n",
        "       ...      followup_time  followup_n  followup_mean  followup_sd  \\\n",
        "14     ...                 12         NaN            NaN          NaN   \n",
        "15     ...                 12         NaN            NaN          NaN   \n",
        "16     ...                 12         NaN            NaN          NaN   \n",
        "17     ...                 12         NaN            NaN          NaN   \n",
        "\n",
        "    change_n  change_mean change_sd  eot_diff_mean  eot_diff_sd  eot_diff_n  \n",
        "14       NaN          NaN       NaN          31.40        46.80          32  \n",
        "15       NaN          NaN       NaN           9.70        12.02          24  \n",
        "16       NaN          NaN       NaN           5.80        49.60          20  \n",
        "17       NaN          NaN       NaN           2.88        14.59          17  \n",
        "\n",
        "[4 rows x 26 columns]"
       ]
      }
     ],
     "prompt_number": 30
    },
    {
     "cell_type": "markdown",
     "metadata": {},
     "source": [
      "Several studies use multiple instruments and metrics within instruments"
     ]
    },
    {
     "cell_type": "code",
     "collapsed": false,
     "input": [
      "eot_subset.groupby(['RefID', 'instrument'])['subtype'].value_counts()"
     ],
     "language": "python",
     "metadata": {},
     "outputs": [
      {
       "metadata": {},
       "output_type": "pyout",
       "prompt_number": 31,
       "text": [
        "RefID  instrument                                                        \n",
        "441    Eyberg Child Behaviour Inventory          Problem Subscale            2\n",
        "                                                 Intensity Subscale          2\n",
        "475    Eyberg Child Behaviour Inventory          Intensity Subscale          2\n",
        "539    Child Behavior Checklist                  Externalizing               2\n",
        "                                                 Aggression                  2\n",
        "564    Eyberg Child Behaviour Inventory          Problem Subscale            2\n",
        "                                                 Intensity Subscale          2\n",
        "899    Child Behavior Checklist                  Externalizing               3\n",
        "       Eyberg Child Behaviour Inventory          Problem Subscale            3\n",
        "                                                 Intensity Subscale          3\n",
        "993    Strengths and Difficulties Questionnaire  Impact Score                2\n",
        "                                                 Conduct Problems Scale      2\n",
        "                                                 Total Difficulties Score    2\n",
        "                                                 Hyperactivity Scale         2\n",
        "1236   Eyberg Child Behaviour Inventory          Problem Subscale            6\n",
        "                                                 Intensity Subscale          6\n",
        "1245   Child Behavior Checklist                  Externalizing               2\n",
        "       Eyberg Child Behaviour Inventory          Intensity Subscale          2\n",
        "1511   Child Behavior Checklist                  Externalizing               2\n",
        "1585   Eyberg Child Behaviour Inventory          Problem Subscale            2\n",
        "                                                 Intensity Subscale          2\n",
        "1875   Child Behavior Checklist                  Externalizing               3\n",
        "1951   Child Behavior Checklist                  Externalizing               2\n",
        "2092   Child Behavior Checklist                  Externalizing               3\n",
        "       Eyberg Child Behaviour Inventory          Intensity Subscale          3\n",
        "2117   Child Behavior Checklist                  Externalizing               2\n",
        "2219   Eyberg Child Behaviour Inventory          Problem Subscale            3\n",
        "                                                 Intensity Subscale          3\n",
        "2239   Child Behavior Checklist                  Externalizing               2\n",
        "2347   Strengths and Difficulties Questionnaire  Total Score                 2\n",
        "                                                 Conduct Problems Scale      2\n",
        "                                                 Emotional Symptoms Scale    2\n",
        "3211   Eyberg Child Behaviour Inventory          Problem Subscale            2\n",
        "                                                 Intensity Subscale          2\n",
        "       Strengths and Difficulties Questionnaire  Total Difficulties Score    2\n",
        "3225   Eyberg Child Behaviour Inventory          Problem Subscale            2\n",
        "                                                 Intensity Subscale          2\n",
        "3397   Child Behavior Checklist                  Externalizing               2\n",
        "3399   Child Behavior Checklist                  Externalizing               2\n",
        "3495   Eyberg Child Behaviour Inventory          Intensity Subscale          4\n",
        "3687   Eyberg Child Behaviour Inventory          Problem Subscale            6\n",
        "                                                 Intensity Subscale          6\n",
        "3716   Eyberg Child Behaviour Inventory          Problem Subscale            2\n",
        "                                                 Intensity Subscale          2\n",
        "3766   Child Behavior Checklist                  Conduct Problems            2\n",
        "       Eyberg Child Behaviour Inventory          Intensity Subscale          5\n",
        "3915   Eyberg Child Behaviour Inventory          Problem Subscale            2\n",
        "                                                 Intensity Subscale          2\n",
        "3960   Eyberg Child Behaviour Inventory          Problem Subscale            2\n",
        "7109   Eyberg Child Behaviour Inventory          Problem Subscale            2\n",
        "                                                 Intensity Subscale          2\n",
        "       Strengths and Difficulties Questionnaire  Conduct Problems Scale      2\n",
        "                                                 Emotional Symptoms Scale    2\n",
        "7723   Child Behavior Checklist                  Externalizing               2\n",
        "Length: 54, dtype: int64"
       ]
      }
     ],
     "prompt_number": 31
    },
    {
     "cell_type": "code",
     "collapsed": false,
     "input": [
      "pd.crosstab(eot_subset.instrument, eot_subset.subtype)"
     ],
     "language": "python",
     "metadata": {},
     "outputs": [
      {
       "html": [
        "<div style=\"max-height:1000px;max-width:1500px;overflow:auto;\">\n",
        "<table border=\"1\" class=\"dataframe\">\n",
        "  <thead>\n",
        "    <tr style=\"text-align: right;\">\n",
        "      <th>subtype</th>\n",
        "      <th>Aggression</th>\n",
        "      <th>Conduct Problems</th>\n",
        "      <th>Conduct Problems Scale</th>\n",
        "      <th>Emotional Symptoms Scale</th>\n",
        "      <th>Externalizing</th>\n",
        "      <th>Hyperactivity Scale</th>\n",
        "      <th>Impact Score</th>\n",
        "      <th>Intensity Subscale</th>\n",
        "      <th>Problem Subscale</th>\n",
        "      <th>Total Difficulties Score</th>\n",
        "      <th>Total Score</th>\n",
        "    </tr>\n",
        "    <tr>\n",
        "      <th>instrument</th>\n",
        "      <th></th>\n",
        "      <th></th>\n",
        "      <th></th>\n",
        "      <th></th>\n",
        "      <th></th>\n",
        "      <th></th>\n",
        "      <th></th>\n",
        "      <th></th>\n",
        "      <th></th>\n",
        "      <th></th>\n",
        "      <th></th>\n",
        "    </tr>\n",
        "  </thead>\n",
        "  <tbody>\n",
        "    <tr>\n",
        "      <th>Child Behavior Checklist</th>\n",
        "      <td> 2</td>\n",
        "      <td> 2</td>\n",
        "      <td> 0</td>\n",
        "      <td> 0</td>\n",
        "      <td> 27</td>\n",
        "      <td> 0</td>\n",
        "      <td> 0</td>\n",
        "      <td>  0</td>\n",
        "      <td>  0</td>\n",
        "      <td> 0</td>\n",
        "      <td> 0</td>\n",
        "    </tr>\n",
        "    <tr>\n",
        "      <th>Eyberg Child Behaviour Inventory</th>\n",
        "      <td> 0</td>\n",
        "      <td> 0</td>\n",
        "      <td> 0</td>\n",
        "      <td> 0</td>\n",
        "      <td>  0</td>\n",
        "      <td> 0</td>\n",
        "      <td> 0</td>\n",
        "      <td> 50</td>\n",
        "      <td> 36</td>\n",
        "      <td> 0</td>\n",
        "      <td> 0</td>\n",
        "    </tr>\n",
        "    <tr>\n",
        "      <th>Strengths and Difficulties Questionnaire</th>\n",
        "      <td> 0</td>\n",
        "      <td> 0</td>\n",
        "      <td> 6</td>\n",
        "      <td> 4</td>\n",
        "      <td>  0</td>\n",
        "      <td> 2</td>\n",
        "      <td> 2</td>\n",
        "      <td>  0</td>\n",
        "      <td>  0</td>\n",
        "      <td> 4</td>\n",
        "      <td> 2</td>\n",
        "    </tr>\n",
        "  </tbody>\n",
        "</table>\n",
        "</div>"
       ],
       "metadata": {},
       "output_type": "pyout",
       "prompt_number": 32,
       "text": [
        "subtype                                   Aggression  Conduct Problems  \\\n",
        "instrument                                                               \n",
        "Child Behavior Checklist                           2                 2   \n",
        "Eyberg Child Behaviour Inventory                   0                 0   \n",
        "Strengths and Difficulties Questionnaire           0                 0   \n",
        "\n",
        "subtype                                   Conduct Problems Scale  \\\n",
        "instrument                                                         \n",
        "Child Behavior Checklist                                       0   \n",
        "Eyberg Child Behaviour Inventory                               0   \n",
        "Strengths and Difficulties Questionnaire                       6   \n",
        "\n",
        "subtype                                   Emotional Symptoms Scale  \\\n",
        "instrument                                                           \n",
        "Child Behavior Checklist                                         0   \n",
        "Eyberg Child Behaviour Inventory                                 0   \n",
        "Strengths and Difficulties Questionnaire                         4   \n",
        "\n",
        "subtype                                   Externalizing  Hyperactivity Scale  \\\n",
        "instrument                                                                     \n",
        "Child Behavior Checklist                             27                    0   \n",
        "Eyberg Child Behaviour Inventory                      0                    0   \n",
        "Strengths and Difficulties Questionnaire              0                    2   \n",
        "\n",
        "subtype                                   Impact Score  Intensity Subscale  \\\n",
        "instrument                                                                   \n",
        "Child Behavior Checklist                             0                   0   \n",
        "Eyberg Child Behaviour Inventory                     0                  50   \n",
        "Strengths and Difficulties Questionnaire             2                   0   \n",
        "\n",
        "subtype                                   Problem Subscale  \\\n",
        "instrument                                                   \n",
        "Child Behavior Checklist                                 0   \n",
        "Eyberg Child Behaviour Inventory                        36   \n",
        "Strengths and Difficulties Questionnaire                 0   \n",
        "\n",
        "subtype                                   Total Difficulties Score  \\\n",
        "instrument                                                           \n",
        "Child Behavior Checklist                                         0   \n",
        "Eyberg Child Behaviour Inventory                                 0   \n",
        "Strengths and Difficulties Questionnaire                         4   \n",
        "\n",
        "subtype                                   Total Score  \n",
        "instrument                                             \n",
        "Child Behavior Checklist                            0  \n",
        "Eyberg Child Behaviour Inventory                    0  \n",
        "Strengths and Difficulties Questionnaire            2  "
       ]
      }
     ],
     "prompt_number": 32
    },
    {
     "cell_type": "code",
     "collapsed": false,
     "input": [
      "x = eot_subset[eot_subset.instrument=='Eyberg Child Behaviour Inventory']\n",
      "pd.crosstab(x.instrument, x.subtype)"
     ],
     "language": "python",
     "metadata": {},
     "outputs": [
      {
       "html": [
        "<div style=\"max-height:1000px;max-width:1500px;overflow:auto;\">\n",
        "<table border=\"1\" class=\"dataframe\">\n",
        "  <thead>\n",
        "    <tr style=\"text-align: right;\">\n",
        "      <th>subtype</th>\n",
        "      <th>Intensity Subscale</th>\n",
        "      <th>Problem Subscale</th>\n",
        "    </tr>\n",
        "    <tr>\n",
        "      <th>instrument</th>\n",
        "      <th></th>\n",
        "      <th></th>\n",
        "    </tr>\n",
        "  </thead>\n",
        "  <tbody>\n",
        "    <tr>\n",
        "      <th>Eyberg Child Behaviour Inventory</th>\n",
        "      <td> 50</td>\n",
        "      <td> 36</td>\n",
        "    </tr>\n",
        "  </tbody>\n",
        "</table>\n",
        "</div>"
       ],
       "metadata": {},
       "output_type": "pyout",
       "prompt_number": 33,
       "text": [
        "subtype                           Intensity Subscale  Problem Subscale\n",
        "instrument                                                            \n",
        "Eyberg Child Behaviour Inventory                  50                36"
       ]
      }
     ],
     "prompt_number": 33
    },
    {
     "cell_type": "code",
     "collapsed": false,
     "input": [
      "x = eot_subset[eot_subset.instrument=='Child Behavior Checklist']\n",
      "pd.crosstab(x.instrument, x.subtype)"
     ],
     "language": "python",
     "metadata": {},
     "outputs": [
      {
       "html": [
        "<div style=\"max-height:1000px;max-width:1500px;overflow:auto;\">\n",
        "<table border=\"1\" class=\"dataframe\">\n",
        "  <thead>\n",
        "    <tr style=\"text-align: right;\">\n",
        "      <th>subtype</th>\n",
        "      <th>Aggression</th>\n",
        "      <th>Conduct Problems</th>\n",
        "      <th>Externalizing</th>\n",
        "    </tr>\n",
        "    <tr>\n",
        "      <th>instrument</th>\n",
        "      <th></th>\n",
        "      <th></th>\n",
        "      <th></th>\n",
        "    </tr>\n",
        "  </thead>\n",
        "  <tbody>\n",
        "    <tr>\n",
        "      <th>Child Behavior Checklist</th>\n",
        "      <td> 2</td>\n",
        "      <td> 2</td>\n",
        "      <td> 27</td>\n",
        "    </tr>\n",
        "  </tbody>\n",
        "</table>\n",
        "</div>"
       ],
       "metadata": {},
       "output_type": "pyout",
       "prompt_number": 34,
       "text": [
        "subtype                   Aggression  Conduct Problems  Externalizing\n",
        "instrument                                                           \n",
        "Child Behavior Checklist           2                 2             27"
       ]
      }
     ],
     "prompt_number": 34
    },
    {
     "cell_type": "code",
     "collapsed": false,
     "input": [
      "x = eot_subset[eot_subset.instrument=='Strengths and Difficulties Questionnaire']\n",
      "pd.crosstab(x.instrument, x.subtype)"
     ],
     "language": "python",
     "metadata": {},
     "outputs": [
      {
       "html": [
        "<div style=\"max-height:1000px;max-width:1500px;overflow:auto;\">\n",
        "<table border=\"1\" class=\"dataframe\">\n",
        "  <thead>\n",
        "    <tr style=\"text-align: right;\">\n",
        "      <th>subtype</th>\n",
        "      <th>Conduct Problems Scale</th>\n",
        "      <th>Emotional Symptoms Scale</th>\n",
        "      <th>Hyperactivity Scale</th>\n",
        "      <th>Impact Score</th>\n",
        "      <th>Total Difficulties Score</th>\n",
        "      <th>Total Score</th>\n",
        "    </tr>\n",
        "    <tr>\n",
        "      <th>instrument</th>\n",
        "      <th></th>\n",
        "      <th></th>\n",
        "      <th></th>\n",
        "      <th></th>\n",
        "      <th></th>\n",
        "      <th></th>\n",
        "    </tr>\n",
        "  </thead>\n",
        "  <tbody>\n",
        "    <tr>\n",
        "      <th>Strengths and Difficulties Questionnaire</th>\n",
        "      <td> 6</td>\n",
        "      <td> 4</td>\n",
        "      <td> 2</td>\n",
        "      <td> 2</td>\n",
        "      <td> 4</td>\n",
        "      <td> 2</td>\n",
        "    </tr>\n",
        "  </tbody>\n",
        "</table>\n",
        "</div>"
       ],
       "metadata": {},
       "output_type": "pyout",
       "prompt_number": 35,
       "text": [
        "subtype                                   Conduct Problems Scale  \\\n",
        "instrument                                                         \n",
        "Strengths and Difficulties Questionnaire                       6   \n",
        "\n",
        "subtype                                   Emotional Symptoms Scale  \\\n",
        "instrument                                                           \n",
        "Strengths and Difficulties Questionnaire                         4   \n",
        "\n",
        "subtype                                   Hyperactivity Scale  Impact Score  \\\n",
        "instrument                                                                    \n",
        "Strengths and Difficulties Questionnaire                    2             2   \n",
        "\n",
        "subtype                                   Total Difficulties Score  \\\n",
        "instrument                                                           \n",
        "Strengths and Difficulties Questionnaire                         4   \n",
        "\n",
        "subtype                                   Total Score  \n",
        "instrument                                             \n",
        "Strengths and Difficulties Questionnaire            2  "
       ]
      }
     ],
     "prompt_number": 35
    },
    {
     "cell_type": "markdown",
     "metadata": {},
     "source": [
      "Merge study variables and outcomes"
     ]
    },
    {
     "cell_type": "code",
     "collapsed": false,
     "input": [
      "merged_vars = study_vars.merge(eot_subset, left_index=True, right_on='RefID')\n",
      "merged_vars.shape"
     ],
     "language": "python",
     "metadata": {},
     "outputs": [
      {
       "metadata": {},
       "output_type": "pyout",
       "prompt_number": 36,
       "text": [
        "(137, 34)"
       ]
      }
     ],
     "prompt_number": 36
    },
    {
     "cell_type": "markdown",
     "metadata": {},
     "source": [
      "For now, restrict to the three most prevalent metrics."
     ]
    },
    {
     "cell_type": "code",
     "collapsed": false,
     "input": [
      "merged_vars.measure_instrument.value_counts()"
     ],
     "language": "python",
     "metadata": {},
     "outputs": [
      {
       "metadata": {},
       "output_type": "pyout",
       "prompt_number": 37,
       "text": [
        "Eyberg Child Behaviour Inventory, Intensity Subscale            46\n",
        "Eyberg Child Behaviour Inventory, Problem Subscale              36\n",
        "Child Behavior Checklist, Externalizing (T Score)               20\n",
        "Child Behavior Checklist, Externalizing                          7\n",
        "Strengths and Difficulties Questionnaire- Conduct Problems Scale     6\n",
        "Strengths and Difficulties Questionnaire- Total Difficulties Score     4\n",
        "Eyberg Child Behaviour Inventory, Intensity Subscale (T Score)     4\n",
        "Strengths and Difficulties Questionnaire- Emotional Symptoms Scale     4\n",
        "Strengths and Difficulties Questionnaire- Impact Score           2\n",
        "Child Behavior Checklist, Aggression                             2\n",
        "Strengths and Difficulties Questionnaire- Total Score            2\n",
        "Child Behavior Checklist, Conduct Problems (T Score)             2\n",
        "Strengths and Difficulties Questionnaire- Hyperactivity Scale     2\n",
        "dtype: int64"
       ]
      }
     ],
     "prompt_number": 37
    },
    {
     "cell_type": "code",
     "collapsed": false,
     "input": [
      "analysis_subset = merged_vars[merged_vars.measure_instrument.isin(merged_vars.measure_instrument.value_counts().index[:4])]\n",
      "analysis_subset.groupby('measure_instrument')['baseline_mean'].max()"
     ],
     "language": "python",
     "metadata": {},
     "outputs": [
      {
       "metadata": {},
       "output_type": "pyout",
       "prompt_number": 38,
       "text": [
        "measure_instrument\n",
        "Child Behavior Checklist, Externalizing                  30.90\n",
        "Child Behavior Checklist, Externalizing (T Score)        77.10\n",
        "Eyberg Child Behaviour Inventory, Intensity Subscale    186.44\n",
        "Eyberg Child Behaviour Inventory, Problem Subscale       28.62\n",
        "Name: baseline_mean, dtype: float64"
       ]
      }
     ],
     "prompt_number": 38
    },
    {
     "cell_type": "code",
     "collapsed": false,
     "input": [
      "analysis_subset.groupby('measure_instrument').baseline_mean.hist()"
     ],
     "language": "python",
     "metadata": {},
     "outputs": [
      {
       "metadata": {},
       "output_type": "pyout",
       "prompt_number": 39,
       "text": [
        "measure_instrument\n",
        "Child Behavior Checklist, Externalizing                 Axes(0.125,0.125;0.775x0.775)\n",
        "Child Behavior Checklist, Externalizing (T Score)       Axes(0.125,0.125;0.775x0.775)\n",
        "Eyberg Child Behaviour Inventory, Intensity Subscale    Axes(0.125,0.125;0.775x0.775)\n",
        "Eyberg Child Behaviour Inventory, Problem Subscale      Axes(0.125,0.125;0.775x0.775)\n",
        "Name: baseline_mean, dtype: object"
       ]
      },
      {
       "metadata": {},
       "output_type": "display_data",
       "png": "[encoded data removed]",
       "text": [
        "<matplotlib.figure.Figure at 0x111244358>"
       ]
      }
     ],
     "prompt_number": 39
    },
    {
     "cell_type": "code",
     "collapsed": false,
     "input": [
      "analysis_subset['baseline_mean'].hist(by=analysis_subset['measure_instrument'],sharex=True)"
     ],
     "language": "python",
     "metadata": {},
     "outputs": [
      {
       "metadata": {},
       "output_type": "pyout",
       "prompt_number": 40,
       "text": [
        "array([[<matplotlib.axes._subplots.AxesSubplot object at 0x111399860>,\n",
        "        <matplotlib.axes._subplots.AxesSubplot object at 0x11125cac8>],\n",
        "       [<matplotlib.axes._subplots.AxesSubplot object at 0x110e3e2b0>,\n",
        "        <matplotlib.axes._subplots.AxesSubplot object at 0x110f04b70>]], dtype=object)"
       ]
      },
      {
       "metadata": {},
       "output_type": "display_data",
       "png": "[encoded data removed]",
       "text": [
        "<matplotlib.figure.Figure at 0x110f9cd30>"
       ]
      }
     ],
     "prompt_number": 40
    },
    {
     "cell_type": "code",
     "collapsed": false,
     "input": [
      "analysis_subset['eot_diff_mean'].hist(by=analysis_subset['measure_instrument'],sharex=True)"
     ],
     "language": "python",
     "metadata": {},
     "outputs": [
      {
       "metadata": {},
       "output_type": "pyout",
       "prompt_number": 41,
       "text": [
        "array([[<matplotlib.axes._subplots.AxesSubplot object at 0x11093c550>,\n",
        "        <matplotlib.axes._subplots.AxesSubplot object at 0x110fc67b8>],\n",
        "       [<matplotlib.axes._subplots.AxesSubplot object at 0x110a6ac88>,\n",
        "        <matplotlib.axes._subplots.AxesSubplot object at 0x110ff1d68>]], dtype=object)"
       ]
      },
      {
       "metadata": {},
       "output_type": "display_data",
       "png": "[encoded data removed]",
       "text": [
        "<matplotlib.figure.Figure at 0x11091c208>"
       ]
      }
     ],
     "prompt_number": 41
    },
    {
     "cell_type": "markdown",
     "metadata": {},
     "source": [
      "## Meta-analysis"
     ]
    },
    {
     "cell_type": "markdown",
     "metadata": {},
     "source": [
      "Number of studies in analysis subset"
     ]
    },
    {
     "cell_type": "code",
     "collapsed": false,
     "input": [
      "unique_studies = analysis_subset.RefID.unique().tolist()\n",
      "len(unique_studies)"
     ],
     "language": "python",
     "metadata": {},
     "outputs": [
      {
       "metadata": {},
       "output_type": "pyout",
       "prompt_number": 42,
       "text": [
        "26"
       ]
      }
     ],
     "prompt_number": 42
    },
    {
     "cell_type": "markdown",
     "metadata": {},
     "source": [
      "We are restricting the analysis to the 4 most prevalent measure instruments in the database."
     ]
    },
    {
     "cell_type": "code",
     "collapsed": false,
     "input": [
      "unique_measures = analysis_subset.measure_instrument.unique().tolist()\n",
      "k = len(unique_measures)\n",
      "unique_measures"
     ],
     "language": "python",
     "metadata": {},
     "outputs": [
      {
       "metadata": {},
       "output_type": "pyout",
       "prompt_number": 43,
       "text": [
        "['Eyberg Child Behaviour Inventory, Intensity Subscale',\n",
        " 'Eyberg Child Behaviour Inventory, Problem Subscale',\n",
        " 'Child Behavior Checklist, Externalizing (T Score)',\n",
        " 'Child Behavior Checklist, Externalizing']"
       ]
      }
     ],
     "prompt_number": 43
    },
    {
     "cell_type": "markdown",
     "metadata": {},
     "source": [
      "Four intervention components were coded:\n",
      "\n",
      "* `child_component`\n",
      "* `parent_component`\n",
      "* `family_component`\n",
      "* `other_component`\n",
      "\n",
      "However, there is only one study with `other_component` in this subset, so we are not going to use this as a predictor."
     ]
    },
    {
     "cell_type": "code",
     "collapsed": false,
     "input": [
      "analysis_subset[[x for x in analysis_subset.columns if x.endswith('component')]].sum(0)"
     ],
     "language": "python",
     "metadata": {},
     "outputs": [
      {
       "metadata": {},
       "output_type": "pyout",
       "prompt_number": 44,
       "text": [
        "child_component     33\n",
        "parent_component    60\n",
        "family_component    20\n",
        "other_component      2\n",
        "dtype: int64"
       ]
      }
     ],
     "prompt_number": 44
    },
    {
     "cell_type": "code",
     "collapsed": false,
     "input": [
      "p_male, age_cat, intvn = analysis_subset[['p_male', 'age_cat', 'intvn']].values.T\n",
      "child_component, parent_component, family_component = analysis_subset[['child_component', 'parent_component', \n",
      "                                                                       'family_component']].values.T\n",
      "\n",
      "change_n, change_mean, change_sd = analysis_subset[['eot_diff_n', 'eot_diff_mean', 'eot_diff_sd']].values.T"
     ],
     "language": "python",
     "metadata": {},
     "outputs": [],
     "prompt_number": 45
    },
    {
     "cell_type": "markdown",
     "metadata": {},
     "source": [
      "Since the data is skewed towards male, I'm creating a `p_female` variable and rescaling to [0,1]"
     ]
    },
    {
     "cell_type": "code",
     "collapsed": false,
     "input": [
      "p_female = (1 - p_male/100.).astype(float)\n",
      "plt.hist(p_female)"
     ],
     "language": "python",
     "metadata": {},
     "outputs": [
      {
       "metadata": {},
       "output_type": "pyout",
       "prompt_number": 46,
       "text": [
        "(array([  3.,   0.,   6.,  32.,  32.,  18.,  10.,   2.,   0.,   6.]),\n",
        " array([ 0.    ,  0.0565,  0.113 ,  0.1695,  0.226 ,  0.2825,  0.339 ,\n",
        "         0.3955,  0.452 ,  0.5085,  0.565 ]),\n",
        " <a list of 10 Patch objects>)"
       ]
      },
      {
       "metadata": {},
       "output_type": "display_data",
       "png": "[encoded data removed]",
       "text": [
        "<matplotlib.figure.Figure at 0x110d48ef0>"
       ]
      }
     ],
     "prompt_number": 46
    },
    {
     "cell_type": "markdown",
     "metadata": {},
     "source": [
      "The response variable is a multivariate normal of dimension k=4, for each of the measure instruments.\n",
      "\n",
      "$$\\left({\n",
      "\\begin{array}{c}\n",
      "  {m_1}\\\\\n",
      "  {m_2}\\\\\n",
      "  {m_3}\\\\\n",
      "  {m_4}\n",
      "\\end{array}\n",
      "}\\right)_i \\sim\\text{MVN}(\\mathbf{\\mu},\\Sigma)$$"
     ]
    },
    {
     "cell_type": "markdown",
     "metadata": {},
     "source": [
      "Means for each study are a draw from a multivariate normal."
     ]
    },
    {
     "cell_type": "code",
     "collapsed": false,
     "input": [
      "wishart = True\n",
      "\n",
      "mu = pm.Normal('mu', 0, 0.001, value=[0]*k)\n",
      "\n",
      "if wishart:\n",
      "    T = pm.Wishart('T', k, np.eye(k), value=np.eye(k))\n",
      "    \n",
      "    m = [pm.MvNormal('m_{}'.format(i), mu, T, value=[0]*k) for i in range(len(unique_studies))]\n",
      "else:\n",
      "    sigmas = pm.Uniform('sigmas', 0, 100, value=[10]*k)\n",
      "    rhos = pm.Uniform('rhos', -1, 1, value=[0]*int(comb(k, 2)))\n",
      "\n",
      "    Sigma = pm.Lambda('Sigma', lambda s=sigmas, r=rhos: np.array([[s[0]**2, s[0]*s[1]*r[0], s[0]*s[2]*r[1], s[0]*s[3]*r[2]],\n",
      "                                                         [s[0]*s[1]*r[0], s[1]**2, s[1]*s[2]*r[3], s[1]*s[3]*r[4]],\n",
      "                                                         [s[0]*s[2]*r[1], s[1]*s[2]*r[3], s[2]**2, s[2]*s[3]*r[5]],\n",
      "                                                         [s[0]*s[3]*r[2], s[1]*s[3]*r[4], s[2]*s[3]*r[5], s[3]**2]]))\n",
      "    \n",
      "    m = [pm.MvNormalCov('m_{}'.format(i), mu, Sigma, value=[0]*k) for i in range(len(unique_studies))]\n",
      "\n"
     ],
     "language": "python",
     "metadata": {},
     "outputs": [],
     "prompt_number": 47
    },
    {
     "cell_type": "markdown",
     "metadata": {},
     "source": [
      "Unique intervention labels for each component; we will use these for component random effects."
     ]
    },
    {
     "cell_type": "code",
     "collapsed": false,
     "input": [
      "unique_child_intvn = np.unique(intvn[child_component.astype(bool)]).tolist()\n",
      "unique_parent_intvn = np.unique(intvn[parent_component.astype(bool)]).tolist()\n",
      "unique_family_intvn = np.unique(intvn[family_component.astype(bool)]).tolist()"
     ],
     "language": "python",
     "metadata": {},
     "outputs": [],
     "prompt_number": 48
    },
    {
     "cell_type": "code",
     "collapsed": false,
     "input": [
      "# Indices to random effect labels\n",
      "child_component_index = [unique_child_intvn.index(x) for x in intvn[child_component.astype(bool)]]\n",
      "parent_component_index = [unique_parent_intvn.index(x) for x in intvn[parent_component.astype(bool)]]\n",
      "family_component_index = [unique_family_intvn.index(x) for x in intvn[family_component.astype(bool)]]"
     ],
     "language": "python",
     "metadata": {},
     "outputs": [],
     "prompt_number": 49
    },
    {
     "cell_type": "markdown",
     "metadata": {},
     "source": [
      "Treatment component random effects\n",
      "\n",
      "$$X_i = \\left[{\n",
      "\\begin{array}{c}\n",
      "  {x_c}\\\\\n",
      "  {x_p}\\\\\n",
      "  {x_f}\\\\\n",
      "\\end{array}\n",
      "}\\right]_i$$\n",
      "\n",
      "$$\\begin{aligned}\n",
      "\\beta_j^{(c)} &\\sim N(\\mu_{\\beta}^{(c)},\\tau_{\\beta}^{(c)}) \\\\\n",
      "\\beta_j^{(p)} &\\sim N(\\mu_{\\beta}^{(p)},\\tau_{\\beta}^{(p)}) \\\\\n",
      "\\beta_j^{(f)} &\\sim N(\\mu_{\\beta}^{(f)},\\tau_{\\beta}^{(f)})\n",
      "\\end{aligned}$$"
     ]
    },
    {
     "cell_type": "code",
     "collapsed": false,
     "input": [
      "mu_beta = pm.Normal('mu_beta', 0, 0.001, value=[0]*3)\n",
      "sig_beta = pm.Uniform('sig_beta', 0, 100, value=1)\n",
      "tau_beta = sig_beta ** -2\n",
      "\n",
      "beta_c = pm.Normal('beta_c', mu_beta[0], tau_beta, value=[0]*len(unique_child_intvn))\n",
      "beta_p = pm.Normal('beta_p', mu_beta[1], tau_beta, value=[0]*len(unique_parent_intvn))\n",
      "beta_f = pm.Normal('beta_f', mu_beta[2], tau_beta, value=[0]*len(unique_family_intvn))\n",
      "\n",
      "b_c = pm.Lambda('b_c', lambda b=beta_c: \n",
      "             np.array([b[unique_child_intvn.index(x)] if child_component[i] else 0 for i,x in enumerate(intvn)]))\n",
      "b_p = pm.Lambda('b_p', lambda b=beta_p: \n",
      "             np.array([b[unique_parent_intvn.index(x)] if parent_component[i] else 0 for i,x in enumerate(intvn)]))\n",
      "b_f = pm.Lambda('b_f', lambda b=beta_f: \n",
      "             np.array([b[unique_family_intvn.index(x)] if family_component[i] else 0 for i,x in enumerate(intvn)]))\n"
     ],
     "language": "python",
     "metadata": {},
     "outputs": [],
     "prompt_number": 50
    },
    {
     "cell_type": "markdown",
     "metadata": {},
     "source": [
      "Interaction with parent component and pre-k children"
     ]
    },
    {
     "cell_type": "code",
     "collapsed": true,
     "input": [
      "interaction = False\n",
      "\n",
      "if interaction:\n",
      "    beta_age_p = pm.Normal('beta_age_p', 0, 1e-5, value=0)\n",
      "    b_ap = pm.Lambda('b_ap', lambda b=beta_age_p: b * parent_component * (analysis_subset.age_cat.values>0))"
     ],
     "language": "python",
     "metadata": {},
     "outputs": [],
     "prompt_number": 51
    },
    {
     "cell_type": "code",
     "collapsed": false,
     "input": [
      "betas = b_c + b_p + b_f \n",
      "\n",
      "if interaction:\n",
      "    betas = betas + b_ap"
     ],
     "language": "python",
     "metadata": {},
     "outputs": [],
     "prompt_number": 52
    },
    {
     "cell_type": "markdown",
     "metadata": {},
     "source": [
      "Covariate effects of age and percent female.\n",
      "\n",
      "$$\\alpha \\sim N(0, 1e5)$$"
     ]
    },
    {
     "cell_type": "code",
     "collapsed": false,
     "input": [
      "alpha_age = pm.Normal('alpha_age', 0, 1e-5, value=[1,2])"
     ],
     "language": "python",
     "metadata": {},
     "outputs": [],
     "prompt_number": 53
    },
    {
     "cell_type": "markdown",
     "metadata": {},
     "source": [
      "Unique study ID (`RefID`) and measure ID (`measure_instrument`) values."
     ]
    },
    {
     "cell_type": "code",
     "collapsed": false,
     "input": [
      "study_id = [unique_studies.index(x) for x in analysis_subset.RefID]\n",
      "measure_id = [unique_measures.index(x) for x in analysis_subset.measure_instrument]"
     ],
     "language": "python",
     "metadata": {},
     "outputs": [],
     "prompt_number": 54
    },
    {
     "cell_type": "markdown",
     "metadata": {},
     "source": [
      "Calculate expected response (treatment difference) as a function of treatment and covariates.\n",
      "\n",
      "$$\\theta_i = m_{j[i]k} + X_i \\beta + \\alpha x_{age}$$ "
     ]
    },
    {
     "cell_type": "code",
     "collapsed": false,
     "input": [
      "@pm.deterministic\n",
      "def theta(m=m, betas=betas, alpha_age=alpha_age):  \n",
      "\n",
      "    mi = [m[i][j] for i,j in zip(study_id, measure_id)]\n",
      "    \n",
      "    age_effect = np.array([alpha_age[a-1] if a else 0 for a in age_cat])\n",
      "    \n",
      "    return(mi + betas + age_effect)"
     ],
     "language": "python",
     "metadata": {},
     "outputs": [],
     "prompt_number": 55
    },
    {
     "cell_type": "markdown",
     "metadata": {},
     "source": [
      "Finally, the likelihood is just a normal distribution, with the observed standard error of the treatment effect as the standard deviation of the estimates.\n",
      "\n",
      "$$d_i \\sim N(\\theta_i, \\hat{\\sigma}^2)$$"
     ]
    },
    {
     "cell_type": "code",
     "collapsed": false,
     "input": [
      "change_se = change_sd/np.sqrt(change_n)"
     ],
     "language": "python",
     "metadata": {},
     "outputs": [],
     "prompt_number": 56
    },
    {
     "cell_type": "code",
     "collapsed": false,
     "input": [
      "d = pm.Normal('d', theta, change_se**-2, observed=True, value=change_mean)"
     ],
     "language": "python",
     "metadata": {},
     "outputs": [],
     "prompt_number": 57
    },
    {
     "cell_type": "markdown",
     "metadata": {},
     "source": [
      "Posterior predictive samples"
     ]
    },
    {
     "cell_type": "code",
     "collapsed": false,
     "input": [
      "d_sim = pm.Normal('d_sim', theta, change_se**-2, size=len(change_mean))"
     ],
     "language": "python",
     "metadata": {},
     "outputs": [],
     "prompt_number": 58
    },
    {
     "cell_type": "code",
     "collapsed": false,
     "input": [
      "import appnope\n",
      "appnope.nope()\n",
      "\n",
      "M = pm.MCMC(locals())\n",
      "# M = pm.MCMC(locals(), db='sqlite', dbname='DBD', dbmode='w')\n",
      "# M.use_step_method(pm.AdaptiveMetropolis, [mu])\n",
      "M.use_step_method(pm.AdaptiveMetropolis, m)\n",
      "M.use_step_method(pm.AdaptiveMetropolis, mu_beta)\n",
      "M.use_step_method(pm.AdaptiveMetropolis, [beta_c, beta_p, beta_f])"
     ],
     "language": "python",
     "metadata": {},
     "outputs": [],
     "prompt_number": 59
    },
    {
     "cell_type": "code",
     "collapsed": false,
     "input": [
      "M.sample(100000, 90000)"
     ],
     "language": "python",
     "metadata": {},
     "outputs": [
      {
       "output_type": "stream",
       "stream": "stdout",
       "text": [
        " [-----------------100%-----------------] 100000 of 100000 complete in 233.3 sec"
       ]
      }
     ],
     "prompt_number": 60
    },
    {
     "cell_type": "markdown",
     "metadata": {},
     "source": [
      "Summary of estimates of intervention components"
     ]
    },
    {
     "cell_type": "code",
     "collapsed": false,
     "input": [
      "pm.Matplot.summary_plot([mu_beta], custom_labels=['Child component', 'Parent component', \n",
      "                                                              'Family component'])"
     ],
     "language": "python",
     "metadata": {},
     "outputs": [
      {
       "output_type": "stream",
       "stream": "stdout",
       "text": [
        "Could not calculate Gelman-Rubin statistics. Requires multiple chains of equal length.\n"
       ]
      },
      {
       "metadata": {},
       "output_type": "display_data",
       "png": "[encoded data removed]",
       "text": [
        "<matplotlib.figure.Figure at 0x110ecbb38>"
       ]
      }
     ],
     "prompt_number": 61
    },
    {
     "cell_type": "code",
     "collapsed": false,
     "input": [
      "mu_beta.summary()"
     ],
     "language": "python",
     "metadata": {},
     "outputs": [
      {
       "output_type": "stream",
       "stream": "stdout",
       "text": [
        "\n",
        "mu_beta:\n",
        " \n",
        "\tMean             SD               MC Error        95% HPD interval\n",
        "\t------------------------------------------------------------------\n",
        "\t3.574            1.77             0.15               [ 0.31  6.68]\n",
        "\t7.717            1.371            0.106          [  4.93   10.161]\n",
        "\t-0.604           3.304            0.281            [-6.621  6.913]\n",
        "\t\n",
        "\t\n",
        "\tPosterior quantiles:\n",
        "\t\n",
        "\t2.5             25              50              75             97.5\n",
        "\t |---------------|===============|===============|---------------|\n",
        "\t0.27             2.256           3.755          4.978         6.678\n",
        "\t5.256            6.875           7.712          8.64          10.56\n",
        "\t-6.316           -2.834          -1.132         1.243         7.463\n",
        "\t\n"
       ]
      }
     ],
     "prompt_number": 62
    },
    {
     "cell_type": "code",
     "collapsed": false,
     "input": [
      "if interaction:\n",
      "    pm.Matplot.plot(beta_age_p)"
     ],
     "language": "python",
     "metadata": {},
     "outputs": [],
     "prompt_number": 63
    },
    {
     "cell_type": "markdown",
     "metadata": {},
     "source": [
      "Difference means by measure instrument."
     ]
    },
    {
     "cell_type": "code",
     "collapsed": false,
     "input": [
      "plt.figure(figsize=(24,4))\n",
      "pm.Matplot.summary_plot([mu], custom_labels=unique_measures)"
     ],
     "language": "python",
     "metadata": {},
     "outputs": [
      {
       "output_type": "stream",
       "stream": "stdout",
       "text": [
        "Could not calculate Gelman-Rubin statistics. Requires multiple chains of equal length.\n"
       ]
      },
      {
       "metadata": {},
       "output_type": "display_data",
       "png": "[encoded data removed]",
       "text": [
        "<matplotlib.figure.Figure at 0x110e51668>"
       ]
      }
     ],
     "prompt_number": 64
    },
    {
     "cell_type": "code",
     "collapsed": false,
     "input": [
      "pm.Matplot.plot(mu)"
     ],
     "language": "python",
     "metadata": {},
     "outputs": [
      {
       "output_type": "stream",
       "stream": "stdout",
       "text": [
        "Plotting mu_0\n",
        "Plotting mu_1\n",
        "Plotting mu_2\n",
        "Plotting mu_3\n"
       ]
      },
      {
       "metadata": {},
       "output_type": "display_data",
       "png": "[encoded data removed]",
       "text": [
        "<matplotlib.figure.Figure at 0x115687dd8>"
       ]
      }
     ],
     "prompt_number": 65
    },
    {
     "cell_type": "code",
     "collapsed": false,
     "input": [
      "if not wishart:\n",
      "    plt.figure(figsize=(24,4))\n",
      "    pm.Matplot.summary_plot([sigmas], custom_labels=unique_measures)"
     ],
     "language": "python",
     "metadata": {},
     "outputs": [],
     "prompt_number": 66
    },
    {
     "cell_type": "code",
     "collapsed": false,
     "input": [
      "if not wishart:\n",
      "    pm.Matplot.summary_plot([rhos], custom_labels=['rho12', 'rho13', 'rho14', 'rho23', 'rho24', 'rho34'])"
     ],
     "language": "python",
     "metadata": {},
     "outputs": [],
     "prompt_number": 67
    },
    {
     "cell_type": "markdown",
     "metadata": {},
     "source": [
      "Age effects for pre-k (top) and teen (bottom) groups, relative to pre-teen."
     ]
    },
    {
     "cell_type": "code",
     "collapsed": false,
     "input": [
      "pm.Matplot.summary_plot([alpha_age], custom_labels=['pre-K', 'teen'])"
     ],
     "language": "python",
     "metadata": {},
     "outputs": [
      {
       "output_type": "stream",
       "stream": "stdout",
       "text": [
        "Could not calculate Gelman-Rubin statistics. Requires multiple chains of equal length.\n"
       ]
      },
      {
       "metadata": {},
       "output_type": "display_data",
       "png": "[encoded data removed]",
       "text": [
        "<matplotlib.figure.Figure at 0x122def278>"
       ]
      }
     ],
     "prompt_number": 73
    },
    {
     "cell_type": "code",
     "collapsed": false,
     "input": [
      "alpha_age.summary()"
     ],
     "language": "python",
     "metadata": {},
     "outputs": [
      {
       "output_type": "stream",
       "stream": "stdout",
       "text": [
        "\n",
        "alpha_age:\n",
        " \n",
        "\tMean             SD               MC Error        95% HPD interval\n",
        "\t------------------------------------------------------------------\n",
        "\t4.2              0.753            0.059            [ 2.635  5.55 ]\n",
        "\t2.668            1.51             0.106            [-0.226  5.595]\n",
        "\t\n",
        "\t\n",
        "\tPosterior quantiles:\n",
        "\t\n",
        "\t2.5             25              50              75             97.5\n",
        "\t |---------------|===============|===============|---------------|\n",
        "\t2.665            3.694           4.23           4.745         5.605\n",
        "\t-0.392           1.608           2.784          3.73          5.549\n",
        "\t\n"
       ]
      }
     ],
     "prompt_number": 71
    },
    {
     "cell_type": "code",
     "collapsed": false,
     "input": [
      "pm.Matplot.plot(alpha_age)"
     ],
     "language": "python",
     "metadata": {},
     "outputs": [
      {
       "output_type": "stream",
       "stream": "stdout",
       "text": [
        "Plotting alpha_age_0\n",
        "Plotting alpha_age_1\n"
       ]
      },
      {
       "metadata": {},
       "output_type": "display_data",
       "png": "[encoded data removed]",
       "text": [
        "<matplotlib.figure.Figure at 0x115fafd30>"
       ]
      }
     ],
     "prompt_number": 69
    },
    {
     "cell_type": "code",
     "collapsed": false,
     "input": [
      "#pm.Matplot.gof_plot(d_sim, change_mean, verbose=0)"
     ],
     "language": "python",
     "metadata": {},
     "outputs": [],
     "prompt_number": 72
    }
   ],
   "metadata": {}
  }
 ]
}