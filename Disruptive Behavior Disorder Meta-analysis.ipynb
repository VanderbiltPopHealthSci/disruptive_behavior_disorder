{
 "metadata": {
  "name": "",
  "signature": "sha256:a1ba2a77f7394d9cb4b8e3b0cd3d43f0919d549c9e15a363470313316059ed67"
 },
 "nbformat": 3,
 "nbformat_minor": 0,
 "worksheets": [
  {
   "cells": [
    {
     "cell_type": "code",
     "collapsed": false,
     "input": [
      "%matplotlib inline\n",
      "import matplotlib.pyplot as plt\n",
      "import seaborn as sb\n",
      "import numpy as np\n",
      "import pandas as pd\n",
      "import pymc as pm"
     ],
     "language": "python",
     "metadata": {},
     "outputs": [
      {
       "output_type": "stream",
       "stream": "stdout",
       "text": [
        "Couldn't import dot_parser, loading of dot files will not be possible.\n"
       ]
      }
     ],
     "prompt_number": 1
    },
    {
     "cell_type": "markdown",
     "metadata": {},
     "source": [
      "## Data import and cleaning"
     ]
    },
    {
     "cell_type": "code",
     "collapsed": false,
     "input": [
      "study_char = pd.read_excel(\"DBD Data for Meta Analyses.xlsx\", \"Study Characteristics\", \n",
      "                           index_col='RefID', na_values=['-', 'NR'])\n",
      "outcomes = pd.read_excel(\"DBD Data for Meta Analyses.xlsx\", \"Outcomes\", \n",
      "                           na_values=['ND', 'NR'])\n",
      "demographics = pd.read_excel(\"DBD Data for Meta Analyses.xlsx\", \"Pt Demographics\", na_values=['-', 'NR'])"
     ],
     "language": "python",
     "metadata": {},
     "outputs": [],
     "prompt_number": 7
    },
    {
     "cell_type": "markdown",
     "metadata": {},
     "source": [
      "Data cleaning"
     ]
    },
    {
     "cell_type": "code",
     "collapsed": false,
     "input": [
      "# Cast outcomes variables to floats\n",
      "for col in ('Last FU Mean', 'Last FU SD',):\n",
      "    outcomes[col] = outcomes[col].astype(float)"
     ],
     "language": "python",
     "metadata": {},
     "outputs": [],
     "prompt_number": 8
    },
    {
     "cell_type": "code",
     "collapsed": true,
     "input": [
      "# Fix data label typo\n",
      "outcomes['Measure Instrument'] = outcomes['Measure Instrument'].replace({'Eyberg Child Behaviour Inventory, problem Subscale': \n",
      "                                        'Eyberg Child Behaviour Inventory, Problem Subscale'})\n",
      "outcomes.Units = outcomes.Units.replace({'scale': 'Scale'})"
     ],
     "language": "python",
     "metadata": {},
     "outputs": [],
     "prompt_number": 9
    },
    {
     "cell_type": "code",
     "collapsed": false,
     "input": [
      "# Parse followup times and convert to months\n",
      "split_fut = outcomes.loc[outcomes['Last FU Time'].notnull(), 'Last FU Time'].apply(lambda x: str(x).split(' ')[:2])\n",
      "fut_months = [float(time)/52.*(unit=='weeks') or float(time) for time, unit in split_fut]\n",
      "outcomes.loc[outcomes['Last FU Time'].notnull(), 'Last FU Time'] = fut_months"
     ],
     "language": "python",
     "metadata": {},
     "outputs": [],
     "prompt_number": 10
    },
    {
     "cell_type": "markdown",
     "metadata": {},
     "source": [
      "## Data summaries\n",
      "\n",
      "Cross-tabulation of the outcome counts by measure instrument"
     ]
    },
    {
     "cell_type": "code",
     "collapsed": false,
     "input": [
      "pd.crosstab(outcomes['Measure Instrument'], outcomes['Outcome'])"
     ],
     "language": "python",
     "metadata": {},
     "outputs": [
      {
       "html": [
        "<div style=\"max-height:1000px;max-width:1500px;overflow:auto;\">\n",
        "<table border=\"1\" class=\"dataframe\">\n",
        "  <thead>\n",
        "    <tr style=\"text-align: right;\">\n",
        "      <th>Outcome</th>\n",
        "      <th>01 Behavior, disruptive</th>\n",
        "      <th>02 Behavior, aggression</th>\n",
        "      <th>06 Behavior, fighting, destruction, violation</th>\n",
        "      <th>08 Behavior, other</th>\n",
        "    </tr>\n",
        "    <tr>\n",
        "      <th>Measure Instrument</th>\n",
        "      <th></th>\n",
        "      <th></th>\n",
        "      <th></th>\n",
        "      <th></th>\n",
        "    </tr>\n",
        "  </thead>\n",
        "  <tbody>\n",
        "    <tr>\n",
        "      <th>Child Behavior Checklist, Aggression</th>\n",
        "      <td>  0</td>\n",
        "      <td> 4</td>\n",
        "      <td> 0</td>\n",
        "      <td>  0</td>\n",
        "    </tr>\n",
        "    <tr>\n",
        "      <th>Child Behavior Checklist, Conduct Problems</th>\n",
        "      <td>  2</td>\n",
        "      <td> 0</td>\n",
        "      <td> 0</td>\n",
        "      <td>  0</td>\n",
        "    </tr>\n",
        "    <tr>\n",
        "      <th>Child Behavior Checklist, Conduct Problems (T Score)</th>\n",
        "      <td>  0</td>\n",
        "      <td> 0</td>\n",
        "      <td> 0</td>\n",
        "      <td>  2</td>\n",
        "    </tr>\n",
        "    <tr>\n",
        "      <th>Child Behavior Checklist, Externalizing</th>\n",
        "      <td> 29</td>\n",
        "      <td> 0</td>\n",
        "      <td> 0</td>\n",
        "      <td> 14</td>\n",
        "    </tr>\n",
        "    <tr>\n",
        "      <th>Child Behavior Checklist, Externalizing (Composite Score)</th>\n",
        "      <td>  2</td>\n",
        "      <td> 0</td>\n",
        "      <td> 0</td>\n",
        "      <td>  0</td>\n",
        "    </tr>\n",
        "    <tr>\n",
        "      <th>Child Behavior Checklist, Externalizing (T Score)</th>\n",
        "      <td> 10</td>\n",
        "      <td> 0</td>\n",
        "      <td> 0</td>\n",
        "      <td> 10</td>\n",
        "    </tr>\n",
        "    <tr>\n",
        "      <th>Child Behavior Checklist, Internalizing</th>\n",
        "      <td>  0</td>\n",
        "      <td> 0</td>\n",
        "      <td> 0</td>\n",
        "      <td>  2</td>\n",
        "    </tr>\n",
        "    <tr>\n",
        "      <th>Child Behavior Checklist, Rulebreaking</th>\n",
        "      <td>  0</td>\n",
        "      <td> 0</td>\n",
        "      <td> 2</td>\n",
        "      <td>  0</td>\n",
        "    </tr>\n",
        "    <tr>\n",
        "      <th>Eyberg Child Behaviour Inventory, Intensity Subscale</th>\n",
        "      <td> 73</td>\n",
        "      <td> 0</td>\n",
        "      <td> 0</td>\n",
        "      <td>  7</td>\n",
        "    </tr>\n",
        "    <tr>\n",
        "      <th>Eyberg Child Behaviour Inventory, Intensity Subscale (T Score)</th>\n",
        "      <td> 10</td>\n",
        "      <td> 0</td>\n",
        "      <td> 0</td>\n",
        "      <td>  0</td>\n",
        "    </tr>\n",
        "    <tr>\n",
        "      <th>Eyberg Child Behaviour Inventory, Problem Subscale</th>\n",
        "      <td> 51</td>\n",
        "      <td> 0</td>\n",
        "      <td> 0</td>\n",
        "      <td>  0</td>\n",
        "    </tr>\n",
        "    <tr>\n",
        "      <th>Eyberg Child Behaviour Inventory, Problem Subscale (T Score)</th>\n",
        "      <td>  4</td>\n",
        "      <td> 0</td>\n",
        "      <td> 0</td>\n",
        "      <td>  0</td>\n",
        "    </tr>\n",
        "    <tr>\n",
        "      <th>Strengths and Difficulties Questionnaire- Conduct Problems Scale</th>\n",
        "      <td> 10</td>\n",
        "      <td> 0</td>\n",
        "      <td> 0</td>\n",
        "      <td>  0</td>\n",
        "    </tr>\n",
        "    <tr>\n",
        "      <th>Strengths and Difficulties Questionnaire- Emotional Symptoms Scale</th>\n",
        "      <td>  0</td>\n",
        "      <td> 0</td>\n",
        "      <td> 0</td>\n",
        "      <td>  4</td>\n",
        "    </tr>\n",
        "    <tr>\n",
        "      <th>Strengths and Difficulties Questionnaire- Hyperactivity Scale</th>\n",
        "      <td>  0</td>\n",
        "      <td> 0</td>\n",
        "      <td> 0</td>\n",
        "      <td>  2</td>\n",
        "    </tr>\n",
        "    <tr>\n",
        "      <th>Strengths and Difficulties Questionnaire- Impact Score</th>\n",
        "      <td>  0</td>\n",
        "      <td> 0</td>\n",
        "      <td> 0</td>\n",
        "      <td>  2</td>\n",
        "    </tr>\n",
        "    <tr>\n",
        "      <th>Strengths and Difficulties Questionnaire- Total Difficulties Score</th>\n",
        "      <td>  0</td>\n",
        "      <td> 0</td>\n",
        "      <td> 0</td>\n",
        "      <td>  4</td>\n",
        "    </tr>\n",
        "    <tr>\n",
        "      <th>Strengths and Difficulties Questionnaire- Total Score</th>\n",
        "      <td>  0</td>\n",
        "      <td> 0</td>\n",
        "      <td> 0</td>\n",
        "      <td>  6</td>\n",
        "    </tr>\n",
        "  </tbody>\n",
        "</table>\n",
        "</div>"
       ],
       "metadata": {},
       "output_type": "pyout",
       "prompt_number": 11,
       "text": [
        "Outcome                                                             01 Behavior, disruptive  \\\n",
        "Measure Instrument                                                                            \n",
        "Child Behavior Checklist, Aggression                                                      0   \n",
        "Child Behavior Checklist, Conduct Problems                                                2   \n",
        "Child Behavior Checklist, Conduct Problems (T Score)                                      0   \n",
        "Child Behavior Checklist, Externalizing                                                  29   \n",
        "Child Behavior Checklist, Externalizing (Composite Score)                                 2   \n",
        "Child Behavior Checklist, Externalizing (T Score)                                        10   \n",
        "Child Behavior Checklist, Internalizing                                                   0   \n",
        "Child Behavior Checklist, Rulebreaking                                                    0   \n",
        "Eyberg Child Behaviour Inventory, Intensity Subscale                                     73   \n",
        "Eyberg Child Behaviour Inventory, Intensity Subscale (T Score)                           10   \n",
        "Eyberg Child Behaviour Inventory, Problem Subscale                                       51   \n",
        "Eyberg Child Behaviour Inventory, Problem Subscale (T Score)                              4   \n",
        "Strengths and Difficulties Questionnaire- Conduct Problems Scale                         10   \n",
        "Strengths and Difficulties Questionnaire- Emotional Symptoms Scale                        0   \n",
        "Strengths and Difficulties Questionnaire- Hyperactivity Scale                             0   \n",
        "Strengths and Difficulties Questionnaire- Impact Score                                    0   \n",
        "Strengths and Difficulties Questionnaire- Total Difficulties Score                        0   \n",
        "Strengths and Difficulties Questionnaire- Total Score                                     0   \n",
        "\n",
        "Outcome                                                             02 Behavior, aggression  \\\n",
        "Measure Instrument                                                                            \n",
        "Child Behavior Checklist, Aggression                                                      4   \n",
        "Child Behavior Checklist, Conduct Problems                                                0   \n",
        "Child Behavior Checklist, Conduct Problems (T Score)                                      0   \n",
        "Child Behavior Checklist, Externalizing                                                   0   \n",
        "Child Behavior Checklist, Externalizing (Composite Score)                                 0   \n",
        "Child Behavior Checklist, Externalizing (T Score)                                         0   \n",
        "Child Behavior Checklist, Internalizing                                                   0   \n",
        "Child Behavior Checklist, Rulebreaking                                                    0   \n",
        "Eyberg Child Behaviour Inventory, Intensity Subscale                                      0   \n",
        "Eyberg Child Behaviour Inventory, Intensity Subscale (T Score)                            0   \n",
        "Eyberg Child Behaviour Inventory, Problem Subscale                                        0   \n",
        "Eyberg Child Behaviour Inventory, Problem Subscale (T Score)                              0   \n",
        "Strengths and Difficulties Questionnaire- Conduct Problems Scale                          0   \n",
        "Strengths and Difficulties Questionnaire- Emotional Symptoms Scale                        0   \n",
        "Strengths and Difficulties Questionnaire- Hyperactivity Scale                             0   \n",
        "Strengths and Difficulties Questionnaire- Impact Score                                    0   \n",
        "Strengths and Difficulties Questionnaire- Total Difficulties Score                        0   \n",
        "Strengths and Difficulties Questionnaire- Total Score                                     0   \n",
        "\n",
        "Outcome                                                             06 Behavior, fighting, destruction, violation  \\\n",
        "Measure Instrument                                                                                                  \n",
        "Child Behavior Checklist, Aggression                                                                            0   \n",
        "Child Behavior Checklist, Conduct Problems                                                                      0   \n",
        "Child Behavior Checklist, Conduct Problems (T Score)                                                            0   \n",
        "Child Behavior Checklist, Externalizing                                                                         0   \n",
        "Child Behavior Checklist, Externalizing (Composite Score)                                                       0   \n",
        "Child Behavior Checklist, Externalizing (T Score)                                                               0   \n",
        "Child Behavior Checklist, Internalizing                                                                         0   \n",
        "Child Behavior Checklist, Rulebreaking                                                                          2   \n",
        "Eyberg Child Behaviour Inventory, Intensity Subscale                                                            0   \n",
        "Eyberg Child Behaviour Inventory, Intensity Subscale (T Score)                                                  0   \n",
        "Eyberg Child Behaviour Inventory, Problem Subscale                                                              0   \n",
        "Eyberg Child Behaviour Inventory, Problem Subscale (T Score)                                                    0   \n",
        "Strengths and Difficulties Questionnaire- Conduct Problems Scale                                                0   \n",
        "Strengths and Difficulties Questionnaire- Emotional Symptoms Scale                                              0   \n",
        "Strengths and Difficulties Questionnaire- Hyperactivity Scale                                                   0   \n",
        "Strengths and Difficulties Questionnaire- Impact Score                                                          0   \n",
        "Strengths and Difficulties Questionnaire- Total Difficulties Score                                              0   \n",
        "Strengths and Difficulties Questionnaire- Total Score                                                           0   \n",
        "\n",
        "Outcome                                                             08 Behavior, other  \n",
        "Measure Instrument                                                                      \n",
        "Child Behavior Checklist, Aggression                                                 0  \n",
        "Child Behavior Checklist, Conduct Problems                                           0  \n",
        "Child Behavior Checklist, Conduct Problems (T Score)                                 2  \n",
        "Child Behavior Checklist, Externalizing                                             14  \n",
        "Child Behavior Checklist, Externalizing (Composite Score)                            0  \n",
        "Child Behavior Checklist, Externalizing (T Score)                                   10  \n",
        "Child Behavior Checklist, Internalizing                                              2  \n",
        "Child Behavior Checklist, Rulebreaking                                               0  \n",
        "Eyberg Child Behaviour Inventory, Intensity Subscale                                 7  \n",
        "Eyberg Child Behaviour Inventory, Intensity Subscale (T Score)                       0  \n",
        "Eyberg Child Behaviour Inventory, Problem Subscale                                   0  \n",
        "Eyberg Child Behaviour Inventory, Problem Subscale (T Score)                         0  \n",
        "Strengths and Difficulties Questionnaire- Conduct Problems Scale                     0  \n",
        "Strengths and Difficulties Questionnaire- Emotional Symptoms Scale                   4  \n",
        "Strengths and Difficulties Questionnaire- Hyperactivity Scale                        2  \n",
        "Strengths and Difficulties Questionnaire- Impact Score                               2  \n",
        "Strengths and Difficulties Questionnaire- Total Difficulties Score                   4  \n",
        "Strengths and Difficulties Questionnaire- Total Score                                6  "
       ]
      }
     ],
     "prompt_number": 11
    },
    {
     "cell_type": "markdown",
     "metadata": {},
     "source": [
      "Distribution of age categories"
     ]
    },
    {
     "cell_type": "code",
     "collapsed": false,
     "input": [
      "study_char.AgeCat.value_counts()"
     ],
     "language": "python",
     "metadata": {},
     "outputs": [
      {
       "metadata": {},
       "output_type": "pyout",
       "prompt_number": 12,
       "text": [
        "SCHOOL    46\n",
        "PRE-K     26\n",
        "TEEN      14\n",
        "dtype: int64"
       ]
      }
     ],
     "prompt_number": 12
    },
    {
     "cell_type": "markdown",
     "metadata": {},
     "source": [
      "Frequencies of various intervention types"
     ]
    },
    {
     "cell_type": "code",
     "collapsed": false,
     "input": [
      "study_char['Intervention Type'].value_counts()"
     ],
     "language": "python",
     "metadata": {},
     "outputs": [
      {
       "metadata": {},
       "output_type": "pyout",
       "prompt_number": 13,
       "text": [
        "PHARM                                                           20\n",
        "IY-PT                                                            8\n",
        "MST                                                              7\n",
        "PCIT                                                             5\n",
        "IY-PT + IY-CT                                                    4\n",
        "PMTO                                                             3\n",
        "Triple P (enhanced)                                              3\n",
        "BSFT                                                             3\n",
        "IY-PT (nurse led)                                                2\n",
        "PCIT-ABB                                                         2\n",
        "IY-CT                                                            2\n",
        "Triple-P (self-directed)                                         2\n",
        "PT                                                               2\n",
        "CBT                                                              2\n",
        "OTH: Intensive treatment                                         2\n",
        "Fast Track                                                       2\n",
        "CPS                                                              1\n",
        "OTH: Instrumental, emotional support & child management skills     1\n",
        "UCPP                                                             1\n",
        "OTH: Parental Stress                                             1\n",
        "IY-PT + IY-CT + IY-TT                                            1\n",
        "Triple-P (online)                                                1\n",
        "MST (PIT)                                                        1\n",
        "IY-PT + ADVANCE                                                  1\n",
        "MF-PEP + TAU                                                     1\n",
        "Coping power                                                     1\n",
        "SCIP (Social cognitive (Dodge's))                                1\n",
        "HNC                                                              1\n",
        "SNAP Under 12 \\nOutReach Project(ORP)                            1\n",
        "IY-CT + IY-PT                                                    1\n",
        "OTH: FFT                                                         1\n",
        "PMT (practitioner assisted)                                      1\n",
        "Coping Power                                                     1\n",
        "Coping power; Coping Power + Booser                              1\n",
        "OTH: Family therapy                                              1\n",
        "PONI                                                             1\n",
        "SNAP Under 12 OutReach Project                                   1\n",
        "Triple-P (enhanced)                                              1\n",
        "SNAP Under 12 OutReach Project (enhanced)                        1\n",
        "IY-PT (brief)                                                    1\n",
        "OTH: Parents Plus Children's Program                             1\n",
        "HNC (technology enhanced)                                        1\n",
        "PMT (perceptive)                                                 1\n",
        "Coping Power (cultural adaptation)                               1\n",
        "OTH: Modular treatment (community)                               1\n",
        "OTH: Modular treatment                                           1\n",
        "PHARM + PSYCH                                                    1\n",
        "OTH: Project support                                             1\n",
        "OTH: Child only treatment                                        1\n",
        "OTH: Booster                                                     1\n",
        "OTH: Community Parent Education Program                          1\n",
        "PHARM1 + PHARM2                                                  1\n",
        "PCIT (modified)                                                  1\n",
        "OTH: Modular (nurse administered)                                1\n",
        "Parenting Group (SPOKES)                                         1\n",
        "OTH: Day Program                                                 1\n",
        "SET-PC                                                           1\n",
        "Length: 57, dtype: int64"
       ]
      }
     ],
     "prompt_number": 13
    },
    {
     "cell_type": "markdown",
     "metadata": {},
     "source": [
      "## Extract variables of interest and merge tables"
     ]
    },
    {
     "cell_type": "code",
     "collapsed": true,
     "input": [
      "KQ1 = study_char[study_char.KQ=='KQ1']"
     ],
     "language": "python",
     "metadata": {},
     "outputs": [],
     "prompt_number": 14
    },
    {
     "cell_type": "code",
     "collapsed": true,
     "input": [
      "study_varnames = ['Year', 'AgeCat', 'Geographic setting', 'Age mean (years) ', 'Age SD (years)', \n",
      "              'Age min (years)', 'Age max (years)', 'Proportion Male (%)']\n",
      "\n",
      "study_vars = KQ1[study_varnames].rename(columns={'Geographic setting': 'country', \n",
      "                           'Age mean (years) ': 'age_mean', \n",
      "                           'Age SD (years)': 'age_sd', \n",
      "                           'Age min (years)': 'age_min', \n",
      "                           'Age max (years)': 'age_max', \n",
      "                           'Proportion Male (%)': 'p_male'})"
     ],
     "language": "python",
     "metadata": {},
     "outputs": [],
     "prompt_number": 15
    },
    {
     "cell_type": "code",
     "collapsed": false,
     "input": [
      "study_vars.head()"
     ],
     "language": "python",
     "metadata": {},
     "outputs": [
      {
       "html": [
        "<div style=\"max-height:1000px;max-width:1500px;overflow:auto;\">\n",
        "<table border=\"1\" class=\"dataframe\">\n",
        "  <thead>\n",
        "    <tr style=\"text-align: right;\">\n",
        "      <th></th>\n",
        "      <th>Year</th>\n",
        "      <th>AgeCat</th>\n",
        "      <th>country</th>\n",
        "      <th>age_mean</th>\n",
        "      <th>age_sd</th>\n",
        "      <th>age_min</th>\n",
        "      <th>age_max</th>\n",
        "      <th>p_male</th>\n",
        "    </tr>\n",
        "    <tr>\n",
        "      <th>RefID</th>\n",
        "      <th></th>\n",
        "      <th></th>\n",
        "      <th></th>\n",
        "      <th></th>\n",
        "      <th></th>\n",
        "      <th></th>\n",
        "      <th></th>\n",
        "      <th></th>\n",
        "    </tr>\n",
        "  </thead>\n",
        "  <tbody>\n",
        "    <tr>\n",
        "      <th>23 </th>\n",
        "      <td> 2013</td>\n",
        "      <td>  PRE-K</td>\n",
        "      <td>         USA</td>\n",
        "      <td>  2.80</td>\n",
        "      <td> 0.61</td>\n",
        "      <td>  2</td>\n",
        "      <td>  4</td>\n",
        "      <td> 62</td>\n",
        "    </tr>\n",
        "    <tr>\n",
        "      <th>100</th>\n",
        "      <td> 2013</td>\n",
        "      <td>   TEEN</td>\n",
        "      <td>         USA</td>\n",
        "      <td> 14.60</td>\n",
        "      <td> 1.30</td>\n",
        "      <td> 11</td>\n",
        "      <td> 18</td>\n",
        "      <td> 83</td>\n",
        "    </tr>\n",
        "    <tr>\n",
        "      <th>103</th>\n",
        "      <td> 2013</td>\n",
        "      <td>  PRE-K</td>\n",
        "      <td>         USA</td>\n",
        "      <td>  5.67</td>\n",
        "      <td> 1.72</td>\n",
        "      <td>  3</td>\n",
        "      <td>  8</td>\n",
        "      <td> 53</td>\n",
        "    </tr>\n",
        "    <tr>\n",
        "      <th>141</th>\n",
        "      <td> 2013</td>\n",
        "      <td> SCHOOL</td>\n",
        "      <td>         USA</td>\n",
        "      <td>  9.90</td>\n",
        "      <td> 1.30</td>\n",
        "      <td>  8</td>\n",
        "      <td> 11</td>\n",
        "      <td> 73</td>\n",
        "    </tr>\n",
        "    <tr>\n",
        "      <th>156</th>\n",
        "      <td> 2013</td>\n",
        "      <td>   TEEN</td>\n",
        "      <td> Netherlands</td>\n",
        "      <td> 16.00</td>\n",
        "      <td> 1.31</td>\n",
        "      <td> 12</td>\n",
        "      <td> 18</td>\n",
        "      <td> 73</td>\n",
        "    </tr>\n",
        "  </tbody>\n",
        "</table>\n",
        "</div>"
       ],
       "metadata": {},
       "output_type": "pyout",
       "prompt_number": 16,
       "text": [
        "       Year  AgeCat      country  age_mean  age_sd  age_min  age_max  p_male\n",
        "RefID                                                                       \n",
        "23     2013   PRE-K          USA      2.80    0.61        2        4      62\n",
        "100    2013    TEEN          USA     14.60    1.30       11       18      83\n",
        "103    2013   PRE-K          USA      5.67    1.72        3        8      53\n",
        "141    2013  SCHOOL          USA      9.90    1.30        8       11      73\n",
        "156    2013    TEEN  Netherlands     16.00    1.31       12       18      73"
       ]
      }
     ],
     "prompt_number": 16
    },
    {
     "cell_type": "markdown",
     "metadata": {},
     "source": [
      "Proportion missing"
     ]
    },
    {
     "cell_type": "code",
     "collapsed": false,
     "input": [
      "study_vars.isnull().mean(0).round(2)"
     ],
     "language": "python",
     "metadata": {},
     "outputs": [
      {
       "metadata": {},
       "output_type": "pyout",
       "prompt_number": 17,
       "text": [
        "Year        0.00\n",
        "AgeCat      0.00\n",
        "country     0.00\n",
        "age_mean    0.13\n",
        "age_sd      0.20\n",
        "age_min     0.07\n",
        "age_max     0.08\n",
        "p_male      0.01\n",
        "dtype: float64"
       ]
      }
     ],
     "prompt_number": 17
    },
    {
     "cell_type": "markdown",
     "metadata": {},
     "source": [
      "Will assume the mean age for those which are missing is simply the midpoint between minimum and maximum values"
     ]
    },
    {
     "cell_type": "code",
     "collapsed": false,
     "input": [
      "est_means = study_vars.apply(lambda x: x.age_min + (x.age_max - x.age_min) / 2, axis=1)[study_vars.age_mean.isnull()]\n",
      "study_vars.loc[study_vars.age_mean.isnull(), 'age_mean'] = est_means\n",
      "\n",
      "study_vars.age_mean.isnull().sum()"
     ],
     "language": "python",
     "metadata": {},
     "outputs": [
      {
       "metadata": {},
       "output_type": "pyout",
       "prompt_number": 18,
       "text": [
        "3"
       ]
      }
     ],
     "prompt_number": 18
    },
    {
     "cell_type": "code",
     "collapsed": false,
     "input": [
      "outcomes.columns"
     ],
     "language": "python",
     "metadata": {},
     "outputs": [
      {
       "metadata": {},
       "output_type": "pyout",
       "prompt_number": 19,
       "text": [
        "Index(['PMID', 'Ref ID', 'Title', 'Year', 'Author', 'Intervention \\nsetting', 'Group', 'Outcome', 'Outcome Description', 'Measure Instrument', 'Measure Description', 'Reporter', 'Units', 'Validation status', 'BL N', 'BL %', 'BL Mean', 'BL SD', 'BL SE', 'BL Min', 'BL Max', 'BL 95% Low', 'BL 95% High', 'BL Q1', 'BL Q3', 'EOT \\nN', 'EOT \\n%', 'EOT Mean', 'EOT \\nSD', 'EOT SE', 'EOT Min', 'EOT Max', 'EOT 95% L', 'EOT 95% H', 'EOT Q1', 'EOT Q3', 'Last FU Time', 'Last FU N', 'Last FU %', 'Last FU Mean', 'Last FU SD', 'Last FU SE', 'Last FU Min', 'Last FU Max', 'Last FU 95% L', 'Last FU 95% H', 'Last FU Q1', 'Last FU Q3', 'CS Group Name', 'CS Group N', 'CS %', 'CS Mean', 'CS SD', 'CS SE', 'CS Min', 'CS Max', 'OR', 'OR 95% CI or p value', 'IRR (incident rate ratio)', 'Beta', 'Analytic Data \\nPoint', 'Comments '], dtype='object')"
       ]
      }
     ],
     "prompt_number": 19
    },
    {
     "cell_type": "code",
     "collapsed": true,
     "input": [
      "outcomes_varnames = ['Ref ID', 'Measure Instrument', 'Units', 'BL N', 'BL Mean', 'BL SD', 'EOT \\nN', 'EOT Mean', 'EOT \\nSD', \n",
      "                     'Last FU Time', 'Last FU N', 'Last FU Mean', 'Last FU SD', 'CS Group N', 'CS Mean', 'CS SD']"
     ],
     "language": "python",
     "metadata": {},
     "outputs": [],
     "prompt_number": 20
    },
    {
     "cell_type": "code",
     "collapsed": false,
     "input": [
      "# Screen Behavior, disruptive\n",
      "disruptive_behavior = outcomes[outcomes.Outcome=='01 Behavior, disruptive']\n",
      "\n",
      "outcomes_vars = disruptive_behavior[outcomes_varnames].rename(columns={'Ref ID': 'RefID', \n",
      "                                                 'Measure Instrument': 'instrument',\n",
      "                                                 'Units': 'units',\n",
      "                                                 'BL N': 'baseline_n', \n",
      "                                                 'BL Mean': 'baseline_mean', \n",
      "                                                 'BL SD': 'baseline_sd', \n",
      "                                                 'EOT \\nN': 'end_treat_n', \n",
      "                                                 'EOT Mean': 'end_treat_mean', \n",
      "                                                 'EOT \\nSD': 'end_treat_sd', \n",
      "                                                 'Last FU Time': 'followup_time', \n",
      "                                                 'Last FU N': 'followup_n', \n",
      "                                                 'Last FU Mean': 'followup_mean', \n",
      "                                                 'Last FU SD': 'followup_sd', \n",
      "                                                 'CS Group N': 'change_n', \n",
      "                                                 'CS Mean': 'change_mean', \n",
      "                                                 'CS SD': 'change_sd'})"
     ],
     "language": "python",
     "metadata": {},
     "outputs": [],
     "prompt_number": 21
    },
    {
     "cell_type": "markdown",
     "metadata": {},
     "source": [
      "Proportion missing"
     ]
    },
    {
     "cell_type": "code",
     "collapsed": false,
     "input": [
      "outcomes_vars.isnull().mean(0).round(2)"
     ],
     "language": "python",
     "metadata": {},
     "outputs": [
      {
       "metadata": {},
       "output_type": "pyout",
       "prompt_number": 22,
       "text": [
        "RefID             0.00\n",
        "instrument        0.00\n",
        "units             0.00\n",
        "baseline_n        0.02\n",
        "baseline_mean     0.08\n",
        "baseline_sd       0.11\n",
        "end_treat_n       0.30\n",
        "end_treat_mean    0.29\n",
        "end_treat_sd      0.32\n",
        "followup_time     0.13\n",
        "followup_n        0.39\n",
        "followup_mean     0.41\n",
        "followup_sd       0.44\n",
        "change_n          0.92\n",
        "change_mean       0.98\n",
        "change_sd         0.99\n",
        "dtype: float64"
       ]
      }
     ],
     "prompt_number": 22
    },
    {
     "cell_type": "code",
     "collapsed": false,
     "input": [
      "outcomes_vars['baseline_mean'].hist(by=outcomes_vars['units']);"
     ],
     "language": "python",
     "metadata": {},
     "outputs": [
      {
       "metadata": {},
       "output_type": "display_data",
       "png": "[encoded data removed]",
       "text": [
        "<matplotlib.figure.Figure at 0x117be2748>"
       ]
      }
     ],
     "prompt_number": 23
    },
    {
     "cell_type": "code",
     "collapsed": false,
     "input": [
      "pd.crosstab(outcomes_vars.instrument, outcomes_vars.units)"
     ],
     "language": "python",
     "metadata": {},
     "outputs": [
      {
       "html": [
        "<div style=\"max-height:1000px;max-width:1500px;overflow:auto;\">\n",
        "<table border=\"1\" class=\"dataframe\">\n",
        "  <thead>\n",
        "    <tr style=\"text-align: right;\">\n",
        "      <th>units</th>\n",
        "      <th>Scale</th>\n",
        "      <th>Score</th>\n",
        "      <th>T score</th>\n",
        "    </tr>\n",
        "    <tr>\n",
        "      <th>instrument</th>\n",
        "      <th></th>\n",
        "      <th></th>\n",
        "      <th></th>\n",
        "    </tr>\n",
        "  </thead>\n",
        "  <tbody>\n",
        "    <tr>\n",
        "      <th>Child Behavior Checklist, Conduct Problems</th>\n",
        "      <td>  0</td>\n",
        "      <td>  2</td>\n",
        "      <td> 0</td>\n",
        "    </tr>\n",
        "    <tr>\n",
        "      <th>Child Behavior Checklist, Externalizing</th>\n",
        "      <td> 21</td>\n",
        "      <td>  8</td>\n",
        "      <td> 0</td>\n",
        "    </tr>\n",
        "    <tr>\n",
        "      <th>Child Behavior Checklist, Externalizing (Composite Score)</th>\n",
        "      <td>  2</td>\n",
        "      <td>  0</td>\n",
        "      <td> 0</td>\n",
        "    </tr>\n",
        "    <tr>\n",
        "      <th>Child Behavior Checklist, Externalizing (T Score)</th>\n",
        "      <td>  4</td>\n",
        "      <td>  2</td>\n",
        "      <td> 4</td>\n",
        "    </tr>\n",
        "    <tr>\n",
        "      <th>Eyberg Child Behaviour Inventory, Intensity Subscale</th>\n",
        "      <td> 17</td>\n",
        "      <td> 56</td>\n",
        "      <td> 0</td>\n",
        "    </tr>\n",
        "    <tr>\n",
        "      <th>Eyberg Child Behaviour Inventory, Intensity Subscale (T Score)</th>\n",
        "      <td>  2</td>\n",
        "      <td>  6</td>\n",
        "      <td> 2</td>\n",
        "    </tr>\n",
        "    <tr>\n",
        "      <th>Eyberg Child Behaviour Inventory, Problem Subscale</th>\n",
        "      <td> 11</td>\n",
        "      <td> 40</td>\n",
        "      <td> 0</td>\n",
        "    </tr>\n",
        "    <tr>\n",
        "      <th>Eyberg Child Behaviour Inventory, Problem Subscale (T Score)</th>\n",
        "      <td>  2</td>\n",
        "      <td>  2</td>\n",
        "      <td> 0</td>\n",
        "    </tr>\n",
        "    <tr>\n",
        "      <th>Strengths and Difficulties Questionnaire- Conduct Problems Scale</th>\n",
        "      <td>  0</td>\n",
        "      <td> 10</td>\n",
        "      <td> 0</td>\n",
        "    </tr>\n",
        "  </tbody>\n",
        "</table>\n",
        "</div>"
       ],
       "metadata": {},
       "output_type": "pyout",
       "prompt_number": 24,
       "text": [
        "units                                                             Scale  \\\n",
        "instrument                                                                \n",
        "Child Behavior Checklist, Conduct Problems                            0   \n",
        "Child Behavior Checklist, Externalizing                              21   \n",
        "Child Behavior Checklist, Externalizing (Composite Score)             2   \n",
        "Child Behavior Checklist, Externalizing (T Score)                     4   \n",
        "Eyberg Child Behaviour Inventory, Intensity Subscale                 17   \n",
        "Eyberg Child Behaviour Inventory, Intensity Subscale (T Score)        2   \n",
        "Eyberg Child Behaviour Inventory, Problem Subscale                   11   \n",
        "Eyberg Child Behaviour Inventory, Problem Subscale (T Score)          2   \n",
        "Strengths and Difficulties Questionnaire- Conduct Problems Scale      0   \n",
        "\n",
        "units                                                             Score  \\\n",
        "instrument                                                                \n",
        "Child Behavior Checklist, Conduct Problems                            2   \n",
        "Child Behavior Checklist, Externalizing                               8   \n",
        "Child Behavior Checklist, Externalizing (Composite Score)             0   \n",
        "Child Behavior Checklist, Externalizing (T Score)                     2   \n",
        "Eyberg Child Behaviour Inventory, Intensity Subscale                 56   \n",
        "Eyberg Child Behaviour Inventory, Intensity Subscale (T Score)        6   \n",
        "Eyberg Child Behaviour Inventory, Problem Subscale                   40   \n",
        "Eyberg Child Behaviour Inventory, Problem Subscale (T Score)          2   \n",
        "Strengths and Difficulties Questionnaire- Conduct Problems Scale     10   \n",
        "\n",
        "units                                                             T score  \n",
        "instrument                                                                 \n",
        "Child Behavior Checklist, Conduct Problems                              0  \n",
        "Child Behavior Checklist, Externalizing                                 0  \n",
        "Child Behavior Checklist, Externalizing (Composite Score)               0  \n",
        "Child Behavior Checklist, Externalizing (T Score)                       4  \n",
        "Eyberg Child Behaviour Inventory, Intensity Subscale                    0  \n",
        "Eyberg Child Behaviour Inventory, Intensity Subscale (T Score)          2  \n",
        "Eyberg Child Behaviour Inventory, Problem Subscale                      0  \n",
        "Eyberg Child Behaviour Inventory, Problem Subscale (T Score)            0  \n",
        "Strengths and Difficulties Questionnaire- Conduct Problems Scale        0  "
       ]
      }
     ],
     "prompt_number": 24
    },
    {
     "cell_type": "code",
     "collapsed": true,
     "input": [],
     "language": "python",
     "metadata": {},
     "outputs": []
    }
   ],
   "metadata": {}
  }
 ]
}