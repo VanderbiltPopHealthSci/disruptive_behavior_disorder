{
 "metadata": {
  "name": "",
  "signature": "sha256:3581b20922d483ea4eaf3415c2d602d1e3f68c45e52b5072348b4b4a110c383b"
 },
 "nbformat": 3,
 "nbformat_minor": 0,
 "worksheets": [
  {
   "cells": [
    {
     "cell_type": "code",
     "collapsed": false,
     "input": [
      "%matplotlib inline\n",
      "import matplotlib.pyplot as plt\n",
      "import seaborn as sb\n",
      "import numpy as np\n",
      "import pandas as pd\n",
      "import pymc as pm"
     ],
     "language": "python",
     "metadata": {},
     "outputs": [],
     "prompt_number": 85
    },
    {
     "cell_type": "markdown",
     "metadata": {},
     "source": [
      "## Data import and cleaning"
     ]
    },
    {
     "cell_type": "code",
     "collapsed": false,
     "input": [
      "study_char = pd.read_excel(\"DBD Data for Meta Analyses.xlsx\", \"Study Characteristics\", \n",
      "                           index_col='RefID', na_values=['-', 'NR'])\n",
      "outcomes = pd.read_excel(\"DBD Data for Meta Analyses.xlsx\", \"Outcomes\", \n",
      "                           na_values=['ND', 'NR'])\n",
      "demographics = pd.read_excel(\"DBD Data for Meta Analyses.xlsx\", \"Pt Demographics\", na_values=['-', 'NR'])"
     ],
     "language": "python",
     "metadata": {},
     "outputs": [],
     "prompt_number": 117
    },
    {
     "cell_type": "markdown",
     "metadata": {},
     "source": [
      "Data cleaning"
     ]
    },
    {
     "cell_type": "code",
     "collapsed": false,
     "input": [
      "# Cast outcomes variables to floats\n",
      "for col in ('Last FU Mean', 'Last FU SD',):\n",
      "    outcomes[col] = outcomes[col].astype(float)"
     ],
     "language": "python",
     "metadata": {},
     "outputs": [],
     "prompt_number": 118
    },
    {
     "cell_type": "code",
     "collapsed": true,
     "input": [
      "# Fix data label typo\n",
      "outcomes['Measure Instrument'] = outcomes['Measure Instrument'].replace({'Eyberg Child Behaviour Inventory, problem Subscale': \n",
      "                                        'Eyberg Child Behaviour Inventory, Problem Subscale'})\n",
      "outcomes.Units = outcomes.Units.replace({'scale': 'Scale'})"
     ],
     "language": "python",
     "metadata": {},
     "outputs": []
    },
    {
     "cell_type": "code",
     "collapsed": false,
     "input": [
      "# Parse followup times and convert to months\n",
      "split_fut = outcomes.loc[outcomes['Last FU Time'].notnull(), 'Last FU Time'].apply(lambda x: str(x).split(' ')[:2])\n",
      "fut_months = [float(time)/52.*(unit=='weeks') or float(time) for time, unit in split_fut]\n",
      "outcomes.loc[outcomes['Last FU Time'].notnull(), 'Last FU Time'] = fut_months"
     ],
     "language": "python",
     "metadata": {},
     "outputs": [],
     "prompt_number": 120
    },
    {
     "cell_type": "markdown",
     "metadata": {},
     "source": [
      "## Data summaries\n",
      "\n",
      "Cross-tabulation of the outcome counts by measure instrument"
     ]
    },
    {
     "cell_type": "code",
     "collapsed": false,
     "input": [
      "pd.crosstab(outcomes['Measure Instrument'], outcomes['Outcome'])"
     ],
     "language": "python",
     "metadata": {},
     "outputs": [
      {
       "html": [
        "<div style=\"max-height:1000px;max-width:1500px;overflow:auto;\">\n",
        "<table border=\"1\" class=\"dataframe\">\n",
        "  <thead>\n",
        "    <tr style=\"text-align: right;\">\n",
        "      <th>Outcome</th>\n",
        "      <th>01 Behavior, disruptive</th>\n",
        "      <th>02 Behavior, aggression</th>\n",
        "      <th>06 Behavior, fighting, destruction, violation</th>\n",
        "      <th>08 Behavior, other</th>\n",
        "    </tr>\n",
        "    <tr>\n",
        "      <th>Measure Instrument</th>\n",
        "      <th></th>\n",
        "      <th></th>\n",
        "      <th></th>\n",
        "      <th></th>\n",
        "    </tr>\n",
        "  </thead>\n",
        "  <tbody>\n",
        "    <tr>\n",
        "      <th>Child Behavior Checklist</th>\n",
        "      <td> 47</td>\n",
        "      <td> 8</td>\n",
        "      <td> 4</td>\n",
        "      <td> 17</td>\n",
        "    </tr>\n",
        "    <tr>\n",
        "      <th>Child Behavior Checklist, Externalizing Factor</th>\n",
        "      <td> 28</td>\n",
        "      <td> 0</td>\n",
        "      <td> 0</td>\n",
        "      <td> 26</td>\n",
        "    </tr>\n",
        "    <tr>\n",
        "      <th>Eyberg Child Behaviour Inventory</th>\n",
        "      <td> 28</td>\n",
        "      <td> 0</td>\n",
        "      <td> 0</td>\n",
        "      <td> 29</td>\n",
        "    </tr>\n",
        "    <tr>\n",
        "      <th>Eyberg Child Behaviour Inventory, Intensity Subscale</th>\n",
        "      <td> 90</td>\n",
        "      <td> 0</td>\n",
        "      <td> 0</td>\n",
        "      <td>  0</td>\n",
        "    </tr>\n",
        "    <tr>\n",
        "      <th>Eyberg Child Behaviour Inventory, Problem Subscale</th>\n",
        "      <td> 58</td>\n",
        "      <td> 0</td>\n",
        "      <td> 0</td>\n",
        "      <td>  0</td>\n",
        "    </tr>\n",
        "    <tr>\n",
        "      <th>Strengths and Difficulties Questionnaire</th>\n",
        "      <td> 10</td>\n",
        "      <td> 0</td>\n",
        "      <td> 0</td>\n",
        "      <td> 18</td>\n",
        "    </tr>\n",
        "  </tbody>\n",
        "</table>\n",
        "</div>"
       ],
       "metadata": {},
       "output_type": "pyout",
       "prompt_number": 122,
       "text": [
        "Outcome                                               01 Behavior, disruptive  \\\n",
        "Measure Instrument                                                              \n",
        "Child Behavior Checklist                                                   47   \n",
        "Child Behavior Checklist, Externalizing Factor                             28   \n",
        "Eyberg Child Behaviour Inventory                                           28   \n",
        "Eyberg Child Behaviour Inventory, Intensity Subscale                       90   \n",
        "Eyberg Child Behaviour Inventory, Problem Subscale                         58   \n",
        "Strengths and Difficulties Questionnaire                                   10   \n",
        "\n",
        "Outcome                                               02 Behavior, aggression  \\\n",
        "Measure Instrument                                                              \n",
        "Child Behavior Checklist                                                    8   \n",
        "Child Behavior Checklist, Externalizing Factor                              0   \n",
        "Eyberg Child Behaviour Inventory                                            0   \n",
        "Eyberg Child Behaviour Inventory, Intensity Subscale                        0   \n",
        "Eyberg Child Behaviour Inventory, Problem Subscale                          0   \n",
        "Strengths and Difficulties Questionnaire                                    0   \n",
        "\n",
        "Outcome                                               06 Behavior, fighting, destruction, violation  \\\n",
        "Measure Instrument                                                                                    \n",
        "Child Behavior Checklist                                                                          4   \n",
        "Child Behavior Checklist, Externalizing Factor                                                    0   \n",
        "Eyberg Child Behaviour Inventory                                                                  0   \n",
        "Eyberg Child Behaviour Inventory, Intensity Subscale                                              0   \n",
        "Eyberg Child Behaviour Inventory, Problem Subscale                                                0   \n",
        "Strengths and Difficulties Questionnaire                                                          0   \n",
        "\n",
        "Outcome                                               08 Behavior, other  \n",
        "Measure Instrument                                                        \n",
        "Child Behavior Checklist                                              17  \n",
        "Child Behavior Checklist, Externalizing Factor                        26  \n",
        "Eyberg Child Behaviour Inventory                                      29  \n",
        "Eyberg Child Behaviour Inventory, Intensity Subscale                   0  \n",
        "Eyberg Child Behaviour Inventory, Problem Subscale                     0  \n",
        "Strengths and Difficulties Questionnaire                              18  "
       ]
      }
     ],
     "prompt_number": 122
    },
    {
     "cell_type": "markdown",
     "metadata": {},
     "source": [
      "Distribution of age categories"
     ]
    },
    {
     "cell_type": "code",
     "collapsed": false,
     "input": [
      "study_char.AgeCat.value_counts()"
     ],
     "language": "python",
     "metadata": {},
     "outputs": [
      {
       "metadata": {},
       "output_type": "pyout",
       "prompt_number": 123,
       "text": [
        "SCHOOL    46\n",
        "PRE-K     26\n",
        "TEEN      14\n",
        "dtype: int64"
       ]
      }
     ],
     "prompt_number": 123
    },
    {
     "cell_type": "markdown",
     "metadata": {},
     "source": [
      "Frequencies of various intervention types"
     ]
    },
    {
     "cell_type": "code",
     "collapsed": false,
     "input": [
      "study_char['Intervention Type'].value_counts()"
     ],
     "language": "python",
     "metadata": {},
     "outputs": [
      {
       "metadata": {},
       "output_type": "pyout",
       "prompt_number": 124,
       "text": [
        "PHARM                                                           20\n",
        "IY-PT                                                            8\n",
        "MST                                                              7\n",
        "PCIT                                                             5\n",
        "IY-PT + IY-CT                                                    4\n",
        "PMTO                                                             3\n",
        "BSFT                                                             3\n",
        "Triple P (enhanced)                                              3\n",
        "Fast Track                                                       2\n",
        "PT                                                               2\n",
        "IY-CT                                                            2\n",
        "CBT                                                              2\n",
        "PCIT-ABB                                                         2\n",
        "Triple-P (self-directed)                                         2\n",
        "IY-PT (nurse led)                                                2\n",
        "OTH: Intensive treatment                                         2\n",
        "OTH: Project support                                             1\n",
        "SNAP Under 12 OutReach Project                                   1\n",
        "SNAP Under 12 \\nOutReach Project(ORP)                            1\n",
        "OTH: Instrumental, emotional support & child management skills     1\n",
        "OTH: Community Parent Education Program                          1\n",
        "OTH: Modular treatment                                           1\n",
        "OTH: Parental Stress                                             1\n",
        "OTH: Booster                                                     1\n",
        "IY-PT + ADVANCE                                                  1\n",
        "PONI                                                             1\n",
        "Triple-P (online)                                                1\n",
        "PHARM1 + PHARM2                                                  1\n",
        "SET-PC                                                           1\n",
        "OTH: Modular (nurse administered)                                1\n",
        "PMT (practitioner assisted)                                      1\n",
        "Coping power                                                     1\n",
        "OTH: Parents Plus Children's Program                             1\n",
        "OTH: FFT                                                         1\n",
        "MF-PEP + TAU                                                     1\n",
        "OTH: Child only treatment                                        1\n",
        "OTH: Modular treatment (community)                               1\n",
        "SNAP Under 12 OutReach Project (enhanced)                        1\n",
        "PMT (perceptive)                                                 1\n",
        "Coping Power (cultural adaptation)                               1\n",
        "HNC                                                              1\n",
        "Triple-P (enhanced)                                              1\n",
        "HNC (technology enhanced)                                        1\n",
        "PCIT (modified)                                                  1\n",
        "OTH: Family therapy                                              1\n",
        "Coping power; Coping Power + Booser                              1\n",
        "UCPP                                                             1\n",
        "OTH: Day Program                                                 1\n",
        "IY-CT + IY-PT                                                    1\n",
        "MST (PIT)                                                        1\n",
        "IY-PT + IY-CT + IY-TT                                            1\n",
        "CPS                                                              1\n",
        "Parenting Group (SPOKES)                                         1\n",
        "PHARM + PSYCH                                                    1\n",
        "Coping Power                                                     1\n",
        "IY-PT (brief)                                                    1\n",
        "SCIP (Social cognitive (Dodge's))                                1\n",
        "Length: 57, dtype: int64"
       ]
      }
     ],
     "prompt_number": 124
    },
    {
     "cell_type": "markdown",
     "metadata": {},
     "source": [
      "## Extract variables of interest and merge tables"
     ]
    },
    {
     "cell_type": "code",
     "collapsed": true,
     "input": [
      "KQ1 = study_char[study_char.KQ=='KQ1']"
     ],
     "language": "python",
     "metadata": {},
     "outputs": [],
     "prompt_number": 125
    },
    {
     "cell_type": "code",
     "collapsed": true,
     "input": [
      "study_varnames = ['Year', 'AgeCat', 'Geographic setting', 'Age mean (years) ', 'Age SD (years)', \n",
      "              'Age min (years)', 'Age max (years)', 'Proportion Male (%)']\n",
      "\n",
      "study_vars = KQ1[study_varnames].rename(columns={'Geographic setting': 'country', \n",
      "                           'Age mean (years) ': 'age_mean', \n",
      "                           'Age SD (years)': 'age_sd', \n",
      "                           'Age min (years)': 'age_min', \n",
      "                           'Age max (years)': 'age_max', \n",
      "                           'Proportion Male (%)': 'p_male'})"
     ],
     "language": "python",
     "metadata": {},
     "outputs": [],
     "prompt_number": 126
    },
    {
     "cell_type": "code",
     "collapsed": false,
     "input": [
      "study_vars.head()"
     ],
     "language": "python",
     "metadata": {},
     "outputs": [
      {
       "html": [
        "<div style=\"max-height:1000px;max-width:1500px;overflow:auto;\">\n",
        "<table border=\"1\" class=\"dataframe\">\n",
        "  <thead>\n",
        "    <tr style=\"text-align: right;\">\n",
        "      <th></th>\n",
        "      <th>Year</th>\n",
        "      <th>AgeCat</th>\n",
        "      <th>country</th>\n",
        "      <th>age_mean</th>\n",
        "      <th>age_sd</th>\n",
        "      <th>age_min</th>\n",
        "      <th>age_max</th>\n",
        "      <th>p_male</th>\n",
        "    </tr>\n",
        "    <tr>\n",
        "      <th>RefID</th>\n",
        "      <th></th>\n",
        "      <th></th>\n",
        "      <th></th>\n",
        "      <th></th>\n",
        "      <th></th>\n",
        "      <th></th>\n",
        "      <th></th>\n",
        "      <th></th>\n",
        "    </tr>\n",
        "  </thead>\n",
        "  <tbody>\n",
        "    <tr>\n",
        "      <th>23 </th>\n",
        "      <td> 2013</td>\n",
        "      <td>  PRE-K</td>\n",
        "      <td>         USA</td>\n",
        "      <td>  2.80</td>\n",
        "      <td> 0.61</td>\n",
        "      <td>  2</td>\n",
        "      <td>  4</td>\n",
        "      <td> 62</td>\n",
        "    </tr>\n",
        "    <tr>\n",
        "      <th>100</th>\n",
        "      <td> 2013</td>\n",
        "      <td>   TEEN</td>\n",
        "      <td>         USA</td>\n",
        "      <td> 14.60</td>\n",
        "      <td> 1.30</td>\n",
        "      <td> 11</td>\n",
        "      <td> 18</td>\n",
        "      <td> 83</td>\n",
        "    </tr>\n",
        "    <tr>\n",
        "      <th>103</th>\n",
        "      <td> 2013</td>\n",
        "      <td>  PRE-K</td>\n",
        "      <td>         USA</td>\n",
        "      <td>  5.67</td>\n",
        "      <td> 1.72</td>\n",
        "      <td>  3</td>\n",
        "      <td>  8</td>\n",
        "      <td> 53</td>\n",
        "    </tr>\n",
        "    <tr>\n",
        "      <th>141</th>\n",
        "      <td> 2013</td>\n",
        "      <td> SCHOOL</td>\n",
        "      <td>         USA</td>\n",
        "      <td>  9.90</td>\n",
        "      <td> 1.30</td>\n",
        "      <td>  8</td>\n",
        "      <td> 11</td>\n",
        "      <td> 73</td>\n",
        "    </tr>\n",
        "    <tr>\n",
        "      <th>156</th>\n",
        "      <td> 2013</td>\n",
        "      <td>   TEEN</td>\n",
        "      <td> Netherlands</td>\n",
        "      <td> 16.00</td>\n",
        "      <td> 1.31</td>\n",
        "      <td> 12</td>\n",
        "      <td> 18</td>\n",
        "      <td> 73</td>\n",
        "    </tr>\n",
        "  </tbody>\n",
        "</table>\n",
        "</div>"
       ],
       "metadata": {},
       "output_type": "pyout",
       "prompt_number": 127,
       "text": [
        "       Year  AgeCat      country  age_mean  age_sd  age_min  age_max  p_male\n",
        "RefID                                                                       \n",
        "23     2013   PRE-K          USA      2.80    0.61        2        4      62\n",
        "100    2013    TEEN          USA     14.60    1.30       11       18      83\n",
        "103    2013   PRE-K          USA      5.67    1.72        3        8      53\n",
        "141    2013  SCHOOL          USA      9.90    1.30        8       11      73\n",
        "156    2013    TEEN  Netherlands     16.00    1.31       12       18      73"
       ]
      }
     ],
     "prompt_number": 127
    },
    {
     "cell_type": "markdown",
     "metadata": {},
     "source": [
      "Proportion missing"
     ]
    },
    {
     "cell_type": "code",
     "collapsed": false,
     "input": [
      "study_vars.isnull().mean(0).round(2)"
     ],
     "language": "python",
     "metadata": {},
     "outputs": [
      {
       "metadata": {},
       "output_type": "pyout",
       "prompt_number": 128,
       "text": [
        "Year        0.00\n",
        "AgeCat      0.00\n",
        "country     0.00\n",
        "age_mean    0.13\n",
        "age_sd      0.20\n",
        "age_min     0.07\n",
        "age_max     0.08\n",
        "p_male      0.01\n",
        "dtype: float64"
       ]
      }
     ],
     "prompt_number": 128
    },
    {
     "cell_type": "markdown",
     "metadata": {},
     "source": [
      "Will assume the mean age for those which are missing is simply the midpoint between minimum and maximum values"
     ]
    },
    {
     "cell_type": "code",
     "collapsed": false,
     "input": [
      "est_means = study_vars.apply(lambda x: x.age_min + (x.age_max - x.age_min) / 2, axis=1)[study_vars.age_mean.isnull()]\n",
      "study_vars.loc[study_vars.age_mean.isnull(), 'age_mean'] = est_means\n",
      "\n",
      "study_vars.age_mean.isnull().sum()"
     ],
     "language": "python",
     "metadata": {},
     "outputs": [
      {
       "metadata": {},
       "output_type": "pyout",
       "prompt_number": 129,
       "text": [
        "3"
       ]
      }
     ],
     "prompt_number": 129
    },
    {
     "cell_type": "code",
     "collapsed": false,
     "input": [
      "outcomes.columns"
     ],
     "language": "python",
     "metadata": {},
     "outputs": [
      {
       "metadata": {},
       "output_type": "pyout",
       "prompt_number": 135,
       "text": [
        "Index(['PMID', 'Ref ID', 'Title', 'Year', 'Intervention \\nsetting', 'Group', 'Outcome', 'Outcome Description', 'Measure Instrument', 'Measure Description', 'Reporter', 'Units', 'Validation status', 'BL N', 'BL %', 'BL Mean', 'BL SD', 'BL SE', 'BL Min', 'BL Max', 'BL 95% Low', 'BL 95% High', 'BL Q1', 'BL Q3', 'EOT \\nN', 'EOT \\n%', 'EOT Mean', 'EOT \\nSD', 'EOT SE', 'EOT Min', 'EOT Max', 'EOT 95% L', 'EOT 95% H', 'EOT Q1', 'EOT Q3', 'Last FU Time', 'Last FU N', 'Last FU %', 'Last FU Mean', 'Last FU SD', 'Last FU SE', 'Last FU Min', 'Last FU Max', 'Last FU 95% L', 'Last FU 95% H', 'Last FU Q1', 'Last FU Q3', 'CS Group Name', 'CS Group N', 'CS %', 'CS Mean', 'CS SD', 'CS SE', 'CS Min', 'CS Max', 'OR', 'OR 95% CI or p value', 'IRR (incident rate ratio)', 'Beta'], dtype='object')"
       ]
      }
     ],
     "prompt_number": 135
    },
    {
     "cell_type": "code",
     "collapsed": true,
     "input": [
      "outcomes_varnames = ['Ref ID', 'Measure Instrument', 'Units', 'BL N', 'BL Mean', 'BL SD', 'EOT \\nN', 'EOT Mean', 'EOT \\nSD', \n",
      "                     'Last FU Time', 'Last FU N', 'Last FU Mean', 'Last FU SD', 'CS Group N', 'CS Mean', 'CS SD']"
     ],
     "language": "python",
     "metadata": {},
     "outputs": [],
     "prompt_number": 138
    },
    {
     "cell_type": "code",
     "collapsed": false,
     "input": [
      "# Screen Behavior, disruptive\n",
      "disruptive_behavior = outcomes[outcomes.Outcome=='01 Behavior, disruptive']\n",
      "\n",
      "outcomes_vars = disruptive_behavior[outcomes_varnames].rename(columns={'Ref ID': 'RefID', \n",
      "                                                 'Measure Instrument': 'instrument',\n",
      "                                                 'Units': 'units',\n",
      "                                                 'BL N': 'baseline_n', \n",
      "                                                 'BL Mean': 'baseline_mean', \n",
      "                                                 'BL SD': 'baseline_sd', \n",
      "                                                 'EOT \\nN': 'end_treat_n', \n",
      "                                                 'EOT Mean': 'end_treat_mean', \n",
      "                                                 'EOT \\nSD': 'end_treat_sd', \n",
      "                                                 'Last FU Time': 'followup_time', \n",
      "                                                 'Last FU N': 'followup_n', \n",
      "                                                 'Last FU Mean': 'followup_mean', \n",
      "                                                 'Last FU SD': 'followup_sd', \n",
      "                                                 'CS Group N': 'change_n', \n",
      "                                                 'CS Mean': 'change_mean', \n",
      "                                                 'CS SD': 'change_sd'})"
     ],
     "language": "python",
     "metadata": {},
     "outputs": [],
     "prompt_number": 139
    },
    {
     "cell_type": "markdown",
     "metadata": {},
     "source": [
      "Proportion missing"
     ]
    },
    {
     "cell_type": "code",
     "collapsed": false,
     "input": [
      "outcomes_vars.isnull().mean(0).round(2)"
     ],
     "language": "python",
     "metadata": {},
     "outputs": [
      {
       "metadata": {},
       "output_type": "pyout",
       "prompt_number": 140,
       "text": [
        "RefID             0.00\n",
        "instrument        0.00\n",
        "units             0.03\n",
        "baseline_n        0.03\n",
        "baseline_mean     0.13\n",
        "baseline_sd       0.16\n",
        "end_treat_n       0.35\n",
        "end_treat_mean    0.36\n",
        "end_treat_sd      0.39\n",
        "followup_time     0.10\n",
        "followup_n        0.34\n",
        "followup_mean     0.41\n",
        "followup_sd       0.44\n",
        "change_n          0.94\n",
        "change_mean       0.98\n",
        "change_sd         0.99\n",
        "dtype: float64"
       ]
      }
     ],
     "prompt_number": 140
    },
    {
     "cell_type": "code",
     "collapsed": false,
     "input": [
      "outcomes_vars['baseline_mean'].hist(by=outcomes_vars['units']);"
     ],
     "language": "python",
     "metadata": {},
     "outputs": [
      {
       "metadata": {},
       "output_type": "display_data",
       "png": "[encoded data removed]",
       "text": [
        "<matplotlib.figure.Figure at 0x1175fb278>"
       ]
      }
     ],
     "prompt_number": 142
    },
    {
     "cell_type": "code",
     "collapsed": false,
     "input": [
      "pd.crosstab(outcomes_vars.instrument, outcomes_vars.units)"
     ],
     "language": "python",
     "metadata": {},
     "outputs": [
      {
       "html": [
        "<div style=\"max-height:1000px;max-width:1500px;overflow:auto;\">\n",
        "<table border=\"1\" class=\"dataframe\">\n",
        "  <thead>\n",
        "    <tr style=\"text-align: right;\">\n",
        "      <th>units</th>\n",
        "      <th>Scale</th>\n",
        "      <th>Score</th>\n",
        "      <th>T score</th>\n",
        "    </tr>\n",
        "    <tr>\n",
        "      <th>instrument</th>\n",
        "      <th></th>\n",
        "      <th></th>\n",
        "      <th></th>\n",
        "    </tr>\n",
        "  </thead>\n",
        "  <tbody>\n",
        "    <tr>\n",
        "      <th>Child Behavior Checklist</th>\n",
        "      <td> 22</td>\n",
        "      <td> 17</td>\n",
        "      <td> 8</td>\n",
        "    </tr>\n",
        "    <tr>\n",
        "      <th>Child Behavior Checklist, Externalizing Factor</th>\n",
        "      <td> 14</td>\n",
        "      <td>  8</td>\n",
        "      <td> 4</td>\n",
        "    </tr>\n",
        "    <tr>\n",
        "      <th>Eyberg Child Behaviour Inventory</th>\n",
        "      <td>  2</td>\n",
        "      <td> 20</td>\n",
        "      <td> 0</td>\n",
        "    </tr>\n",
        "    <tr>\n",
        "      <th>Eyberg Child Behaviour Inventory, Intensity Subscale</th>\n",
        "      <td> 19</td>\n",
        "      <td> 69</td>\n",
        "      <td> 2</td>\n",
        "    </tr>\n",
        "    <tr>\n",
        "      <th>Eyberg Child Behaviour Inventory, Problem Subscale</th>\n",
        "      <td> 13</td>\n",
        "      <td> 45</td>\n",
        "      <td> 0</td>\n",
        "    </tr>\n",
        "    <tr>\n",
        "      <th>Strengths and Difficulties Questionnaire</th>\n",
        "      <td>  0</td>\n",
        "      <td> 10</td>\n",
        "      <td> 0</td>\n",
        "    </tr>\n",
        "  </tbody>\n",
        "</table>\n",
        "</div>"
       ],
       "metadata": {},
       "output_type": "pyout",
       "prompt_number": 143,
       "text": [
        "units                                                 Scale  Score  T score\n",
        "instrument                                                                 \n",
        "Child Behavior Checklist                                 22     17        8\n",
        "Child Behavior Checklist, Externalizing Factor           14      8        4\n",
        "Eyberg Child Behaviour Inventory                          2     20        0\n",
        "Eyberg Child Behaviour Inventory, Intensity Subscale     19     69        2\n",
        "Eyberg Child Behaviour Inventory, Problem Subscale       13     45        0\n",
        "Strengths and Difficulties Questionnaire                  0     10        0"
       ]
      }
     ],
     "prompt_number": 143
    }
   ],
   "metadata": {}
  }
 ]
}